{
 "cells": [
  {
   "cell_type": "code",
   "execution_count": null,
   "metadata": {
    "collapsed": false,
    "pycharm": {
     "name": "#%%\n"
    }
   },
   "outputs": [],
   "source": [
    "import dgl\n",
    "import torch\n",
    "import numpy as np\n",
    "import os\n",
    "import random\n",
    "# from pygod.utils import load_data\n",
    "import pandas\n",
    "import bidict\n",
    "from dgl.data import FraudAmazonDataset, FraudYelpDataset\n",
    "from sklearn.model_selection import train_test_split\n",
    "\n",
    "def set_seed(seed=3407):\n",
    "    os.environ['PYTHONHASHSEED'] = str(seed)\n",
    "    random.seed(seed)\n",
    "    np.random.seed(seed)\n",
    "    torch.manual_seed(seed)\n",
    "    if torch.cuda.is_available():\n",
    "        torch.cuda.manual_seed(seed)\n",
    "        torch.cuda.manual_seed_all(seed)\n",
    "        torch.backends.cudnn.deterministic = True"
   ]
  },
  {
   "cell_type": "code",
   "execution_count": null,
   "metadata": {
    "collapsed": false,
    "pycharm": {
     "name": "#%%\n"
    }
   },
   "outputs": [],
   "source": [
    "class Dataset:\n",
    "    def __init__(self, name='tfinance', prefix='datasets/',homo=True, add_self_loop=True, to_bidirectional=False, to_simple=True):\n",
    "        if name == 'yelp':\n",
    "            dataset = FraudYelpDataset()\n",
    "            graph = dataset[0]\n",
    "            graph.ndata['train_mask'] = graph.ndata['train_mask'].bool()\n",
    "            graph.ndata['val_mask'] = graph.ndata['val_mask'].bool()\n",
    "            graph.ndata['test_mask'] = graph.ndata['test_mask'].bool()\n",
    "            if homo:\n",
    "                graph = dgl.to_homogeneous(dataset[0], ndata=['feature', 'label', 'train_mask', 'val_mask', 'test_mask'])\n",
    "\n",
    "        elif name == 'amazon':\n",
    "            dataset = FraudAmazonDataset()\n",
    "            graph = dataset[0]\n",
    "            graph.ndata['train_mask'] = graph.ndata['train_mask'].bool()\n",
    "            graph.ndata['val_mask'] = graph.ndata['val_mask'].bool()\n",
    "            graph.ndata['test_mask'] = graph.ndata['test_mask'].bool()\n",
    "            graph.ndata['mark'] = graph.ndata['train_mask']+graph.ndata['val_mask']+graph.ndata['test_mask']\n",
    "            if homo:\n",
    "                graph = dgl.to_homogeneous(dataset[0], ndata=['feature', 'label', 'train_mask', 'val_mask', 'test_mask', 'mark'])\n",
    "\n",
    "        else:\n",
    "            graph = dgl.load_graphs(prefix+name)[0][0]\n",
    "        graph.ndata['feature'] = graph.ndata['feature'].float()\n",
    "        graph.ndata['label'] = graph.ndata['label'].long()\n",
    "        self.name = name\n",
    "        self.graph = graph\n",
    "        if add_self_loop:\n",
    "            self.graph = dgl.add_self_loop(self.graph)\n",
    "        if to_bidirectional:\n",
    "            self.graph = dgl.to_bidirected(self.graph, copy_ndata=True)\n",
    "        if to_simple:\n",
    "            self.graph = dgl.to_simple(self.graph)\n",
    "\n",
    "    def split(self, samples=20):\n",
    "        labels = self.graph.ndata['label']\n",
    "        n = self.graph.num_nodes()\n",
    "        index = list(range(n))\n",
    "        train_masks = torch.zeros([n,20]).bool()\n",
    "        val_masks = torch.zeros([n,20]).bool()\n",
    "        test_masks = torch.zeros([n,20]).bool()\n",
    "        # official split\n",
    "        train_masks[:,:10] = self.graph.ndata['train_mask'].repeat(10,1).T\n",
    "        val_masks[:,:10] = self.graph.ndata['val_mask'].repeat(10,1).T\n",
    "        test_masks[:,:10] = self.graph.ndata['test_mask'].repeat(10,1).T\n",
    "\n",
    "\n",
    "        for i in range(10):\n",
    "            pos_index = np.where(labels == 1)[0]\n",
    "            neg_index = list(set(index) - set(pos_index))\n",
    "            pos_train_idx = np.random.choice(pos_index, size=2*samples, replace=False)\n",
    "            neg_train_idx = np.random.choice(neg_index, size=8*samples, replace=False)\n",
    "            train_idx = np.concatenate([pos_train_idx[:samples], neg_train_idx[:4*samples]])\n",
    "            train_masks[train_idx, 10+i] = 1\n",
    "            val_idx = np.concatenate([pos_train_idx[samples:], neg_train_idx[4*samples:]])\n",
    "            val_masks[val_idx, 10+i] = 1\n",
    "            test_masks[index, 10+i] = 1\n",
    "            test_masks[train_idx, 10+i] = 0\n",
    "            test_masks[val_idx, 10+i] = 0\n",
    "\n",
    "        self.graph.ndata['train_masks'] = train_masks\n",
    "        self.graph.ndata['val_masks'] = val_masks\n",
    "        self.graph.ndata['test_masks'] = test_masks"
   ]
  },
  {
   "cell_type": "code",
   "execution_count": null,
   "metadata": {},
   "outputs": [],
   "source": [
    "prefix = '/data/sx/NFTGraph'"
   ]
  },
  {
   "cell_type": "code",
   "execution_count": null,
   "metadata": {
    "collapsed": false,
    "pycharm": {
     "name": "#%%\n"
    }
   },
   "outputs": [],
   "source": [
    "for data_name in ['tinynftgraph', 'nftgraph']:\n",
    "    data = Dataset(data_name,prefix=prefix+'/datasets/dgl_graph/')\n",
    "    data.split()\n",
    "    print(data.graph)\n",
    "    print(data.graph.ndata['train_masks'].sum(0), data.graph.ndata['val_masks'].sum(0), data.graph.ndata['test_masks'].sum(0))\n",
    "    dgl.save_graphs('datasets/'+data_name, [data.graph])"
   ]
  }
 ],
 "metadata": {
  "kernelspec": {
   "display_name": "Python 3",
   "language": "python",
   "name": "python3"
  },
  "language_info": {
   "codemirror_mode": {
    "name": "ipython",
    "version": 3
   },
   "file_extension": ".py",
   "mimetype": "text/x-python",
   "name": "python",
   "nbconvert_exporter": "python",
   "pygments_lexer": "ipython3",
   "version": "3.8.0"
  }
 },
 "nbformat": 4,
 "nbformat_minor": 0
}
