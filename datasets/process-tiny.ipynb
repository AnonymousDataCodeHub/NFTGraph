{
 "cells": [
  {
   "cell_type": "code",
   "execution_count": 1,
   "metadata": {
    "collapsed": false,
    "pycharm": {
     "name": "#%%\n"
    }
   },
   "outputs": [],
   "source": [
    "import dgl\n",
    "import torch\n",
    "import numpy as np\n",
    "import os\n",
    "import random\n",
    "import pandas as pd\n",
    "import bidict\n",
    "\n",
    "def set_seed(seed=3407):\n",
    "    os.environ['PYTHONHASHSEED'] = str(seed)\n",
    "    random.seed(seed)\n",
    "    np.random.seed(seed)\n",
    "    torch.manual_seed(seed)\n",
    "    if torch.cuda.is_available():\n",
    "        torch.cuda.manual_seed(seed)\n",
    "        torch.cuda.manual_seed_all(seed)\n",
    "        torch.backends.cudnn.deterministic = True"
   ]
  },
  {
   "cell_type": "code",
   "execution_count": 2,
   "metadata": {},
   "outputs": [],
   "source": [
    "prefix = '/data/sx/NFTGraph'"
   ]
  },
  {
   "cell_type": "code",
   "execution_count": 3,
   "metadata": {},
   "outputs": [],
   "source": [
    "dfnodes = pd.read_csv(prefix+'/raw_data/tinynodes.csv')"
   ]
  },
  {
   "cell_type": "code",
   "execution_count": 4,
   "metadata": {},
   "outputs": [
    {
     "data": {
      "text/html": [
       "<div>\n",
       "<style scoped>\n",
       "    .dataframe tbody tr th:only-of-type {\n",
       "        vertical-align: middle;\n",
       "    }\n",
       "\n",
       "    .dataframe tbody tr th {\n",
       "        vertical-align: top;\n",
       "    }\n",
       "\n",
       "    .dataframe thead th {\n",
       "        text-align: right;\n",
       "    }\n",
       "</style>\n",
       "<table border=\"1\" class=\"dataframe\">\n",
       "  <thead>\n",
       "    <tr style=\"text-align: right;\">\n",
       "      <th></th>\n",
       "      <th>addr</th>\n",
       "      <th>OutCnt</th>\n",
       "      <th>OutAmount</th>\n",
       "      <th>OutValue</th>\n",
       "      <th>OutTransFee</th>\n",
       "      <th>InCnt</th>\n",
       "      <th>InAmount</th>\n",
       "      <th>InValue</th>\n",
       "      <th>InTransFee</th>\n",
       "      <th>label</th>\n",
       "    </tr>\n",
       "  </thead>\n",
       "  <tbody>\n",
       "    <tr>\n",
       "      <th>0</th>\n",
       "      <td>0x0000000000000000000000000000000000000000</td>\n",
       "      <td>2650186.0</td>\n",
       "      <td>7217724.0</td>\n",
       "      <td>7.123250e+08</td>\n",
       "      <td>2.160977e+07</td>\n",
       "      <td>595830.0</td>\n",
       "      <td>2410795.0</td>\n",
       "      <td>2.029615e+07</td>\n",
       "      <td>4.879685e+06</td>\n",
       "      <td>0</td>\n",
       "    </tr>\n",
       "    <tr>\n",
       "      <th>1</th>\n",
       "      <td>0x4b3406a41399c7fd2ba65cbc93697ad9e7ea61e5</td>\n",
       "      <td>20407.0</td>\n",
       "      <td>22644.0</td>\n",
       "      <td>0.000000e+00</td>\n",
       "      <td>1.306836e+05</td>\n",
       "      <td>20407.0</td>\n",
       "      <td>22644.0</td>\n",
       "      <td>0.000000e+00</td>\n",
       "      <td>1.306836e+05</td>\n",
       "      <td>0</td>\n",
       "    </tr>\n",
       "    <tr>\n",
       "      <th>2</th>\n",
       "      <td>0x000000000000000000000000000000000000dead</td>\n",
       "      <td>6.0</td>\n",
       "      <td>12.0</td>\n",
       "      <td>0.000000e+00</td>\n",
       "      <td>2.842000e+01</td>\n",
       "      <td>39553.0</td>\n",
       "      <td>47223.0</td>\n",
       "      <td>1.036783e+05</td>\n",
       "      <td>1.821448e+05</td>\n",
       "      <td>0</td>\n",
       "    </tr>\n",
       "    <tr>\n",
       "      <th>3</th>\n",
       "      <td>0xeca9d81a4dc7119a40481cff4e7e24dd0aaf56bd</td>\n",
       "      <td>1090.0</td>\n",
       "      <td>1090.0</td>\n",
       "      <td>0.000000e+00</td>\n",
       "      <td>1.274590e+03</td>\n",
       "      <td>35295.0</td>\n",
       "      <td>36508.0</td>\n",
       "      <td>0.000000e+00</td>\n",
       "      <td>2.018945e+04</td>\n",
       "      <td>0</td>\n",
       "    </tr>\n",
       "    <tr>\n",
       "      <th>4</th>\n",
       "      <td>0x381e840f4ebe33d0153e9a312105554594a98c42</td>\n",
       "      <td>34524.0</td>\n",
       "      <td>36592.0</td>\n",
       "      <td>0.000000e+00</td>\n",
       "      <td>2.083176e+05</td>\n",
       "      <td>442.0</td>\n",
       "      <td>2494.0</td>\n",
       "      <td>0.000000e+00</td>\n",
       "      <td>2.374280e+03</td>\n",
       "      <td>0</td>\n",
       "    </tr>\n",
       "    <tr>\n",
       "      <th>...</th>\n",
       "      <td>...</td>\n",
       "      <td>...</td>\n",
       "      <td>...</td>\n",
       "      <td>...</td>\n",
       "      <td>...</td>\n",
       "      <td>...</td>\n",
       "      <td>...</td>\n",
       "      <td>...</td>\n",
       "      <td>...</td>\n",
       "      <td>...</td>\n",
       "    </tr>\n",
       "    <tr>\n",
       "      <th>19995</th>\n",
       "      <td>0x5a1d741b79d30c33021cf9d07ab59a37a10b4d1f</td>\n",
       "      <td>11.0</td>\n",
       "      <td>17.0</td>\n",
       "      <td>2.264330e+03</td>\n",
       "      <td>2.911300e+02</td>\n",
       "      <td>52.0</td>\n",
       "      <td>3320.0</td>\n",
       "      <td>2.773610e+03</td>\n",
       "      <td>2.299100e+02</td>\n",
       "      <td>0</td>\n",
       "    </tr>\n",
       "    <tr>\n",
       "      <th>19996</th>\n",
       "      <td>0x479db4dac1f196bceb97d52e99c3f4959d93b18b</td>\n",
       "      <td>19.0</td>\n",
       "      <td>23.0</td>\n",
       "      <td>1.110640e+03</td>\n",
       "      <td>1.290900e+02</td>\n",
       "      <td>44.0</td>\n",
       "      <td>44.0</td>\n",
       "      <td>0.000000e+00</td>\n",
       "      <td>1.353200e+02</td>\n",
       "      <td>0</td>\n",
       "    </tr>\n",
       "    <tr>\n",
       "      <th>19997</th>\n",
       "      <td>0x6fb9a82b00ccbe0e0cf06984d902cbeb946a44ca</td>\n",
       "      <td>17.0</td>\n",
       "      <td>17.0</td>\n",
       "      <td>4.199727e+03</td>\n",
       "      <td>2.130217e+02</td>\n",
       "      <td>46.0</td>\n",
       "      <td>46.0</td>\n",
       "      <td>3.892785e+03</td>\n",
       "      <td>3.892402e+02</td>\n",
       "      <td>0</td>\n",
       "    </tr>\n",
       "    <tr>\n",
       "      <th>19998</th>\n",
       "      <td>0xa126b4ad2328055ab7c01ce87a29a17b9f97e85a</td>\n",
       "      <td>15.0</td>\n",
       "      <td>116.0</td>\n",
       "      <td>1.841844e+04</td>\n",
       "      <td>2.348217e+02</td>\n",
       "      <td>48.0</td>\n",
       "      <td>57.0</td>\n",
       "      <td>9.970242e+03</td>\n",
       "      <td>2.797561e+02</td>\n",
       "      <td>0</td>\n",
       "    </tr>\n",
       "    <tr>\n",
       "      <th>19999</th>\n",
       "      <td>0xc7d7ffb6484ac68efdbca7a477a63ce307e8fdcf</td>\n",
       "      <td>4.0</td>\n",
       "      <td>4.0</td>\n",
       "      <td>1.987600e+02</td>\n",
       "      <td>2.526000e+01</td>\n",
       "      <td>59.0</td>\n",
       "      <td>60.0</td>\n",
       "      <td>1.217019e+04</td>\n",
       "      <td>5.536411e+02</td>\n",
       "      <td>0</td>\n",
       "    </tr>\n",
       "  </tbody>\n",
       "</table>\n",
       "<p>20000 rows × 10 columns</p>\n",
       "</div>"
      ],
      "text/plain": [
       "                                             addr     OutCnt  OutAmount  \\\n",
       "0      0x0000000000000000000000000000000000000000  2650186.0  7217724.0   \n",
       "1      0x4b3406a41399c7fd2ba65cbc93697ad9e7ea61e5    20407.0    22644.0   \n",
       "2      0x000000000000000000000000000000000000dead        6.0       12.0   \n",
       "3      0xeca9d81a4dc7119a40481cff4e7e24dd0aaf56bd     1090.0     1090.0   \n",
       "4      0x381e840f4ebe33d0153e9a312105554594a98c42    34524.0    36592.0   \n",
       "...                                           ...        ...        ...   \n",
       "19995  0x5a1d741b79d30c33021cf9d07ab59a37a10b4d1f       11.0       17.0   \n",
       "19996  0x479db4dac1f196bceb97d52e99c3f4959d93b18b       19.0       23.0   \n",
       "19997  0x6fb9a82b00ccbe0e0cf06984d902cbeb946a44ca       17.0       17.0   \n",
       "19998  0xa126b4ad2328055ab7c01ce87a29a17b9f97e85a       15.0      116.0   \n",
       "19999  0xc7d7ffb6484ac68efdbca7a477a63ce307e8fdcf        4.0        4.0   \n",
       "\n",
       "           OutValue   OutTransFee     InCnt   InAmount       InValue  \\\n",
       "0      7.123250e+08  2.160977e+07  595830.0  2410795.0  2.029615e+07   \n",
       "1      0.000000e+00  1.306836e+05   20407.0    22644.0  0.000000e+00   \n",
       "2      0.000000e+00  2.842000e+01   39553.0    47223.0  1.036783e+05   \n",
       "3      0.000000e+00  1.274590e+03   35295.0    36508.0  0.000000e+00   \n",
       "4      0.000000e+00  2.083176e+05     442.0     2494.0  0.000000e+00   \n",
       "...             ...           ...       ...        ...           ...   \n",
       "19995  2.264330e+03  2.911300e+02      52.0     3320.0  2.773610e+03   \n",
       "19996  1.110640e+03  1.290900e+02      44.0       44.0  0.000000e+00   \n",
       "19997  4.199727e+03  2.130217e+02      46.0       46.0  3.892785e+03   \n",
       "19998  1.841844e+04  2.348217e+02      48.0       57.0  9.970242e+03   \n",
       "19999  1.987600e+02  2.526000e+01      59.0       60.0  1.217019e+04   \n",
       "\n",
       "         InTransFee  label  \n",
       "0      4.879685e+06      0  \n",
       "1      1.306836e+05      0  \n",
       "2      1.821448e+05      0  \n",
       "3      2.018945e+04      0  \n",
       "4      2.374280e+03      0  \n",
       "...             ...    ...  \n",
       "19995  2.299100e+02      0  \n",
       "19996  1.353200e+02      0  \n",
       "19997  3.892402e+02      0  \n",
       "19998  2.797561e+02      0  \n",
       "19999  5.536411e+02      0  \n",
       "\n",
       "[20000 rows x 10 columns]"
      ]
     },
     "execution_count": 4,
     "metadata": {},
     "output_type": "execute_result"
    }
   ],
   "source": [
    "dfnodes"
   ]
  },
  {
   "cell_type": "code",
   "execution_count": 5,
   "metadata": {},
   "outputs": [],
   "source": [
    "node_dict = bidict.bidict()"
   ]
  },
  {
   "cell_type": "code",
   "execution_count": 6,
   "metadata": {},
   "outputs": [
    {
     "data": {
      "text/plain": [
       "array([['0x0000000000000000000000000000000000000000', 0],\n",
       "       ['0x4b3406a41399c7fd2ba65cbc93697ad9e7ea61e5', 0],\n",
       "       ['0x000000000000000000000000000000000000dead', 0],\n",
       "       ...,\n",
       "       ['0x6fb9a82b00ccbe0e0cf06984d902cbeb946a44ca', 0],\n",
       "       ['0xa126b4ad2328055ab7c01ce87a29a17b9f97e85a', 0],\n",
       "       ['0xc7d7ffb6484ac68efdbca7a477a63ce307e8fdcf', 0]], dtype=object)"
      ]
     },
     "execution_count": 6,
     "metadata": {},
     "output_type": "execute_result"
    }
   ],
   "source": [
    "labels = dfnodes[['addr','label']].to_numpy()\n",
    "labels"
   ]
  },
  {
   "cell_type": "code",
   "execution_count": 7,
   "metadata": {},
   "outputs": [],
   "source": [
    "for i in range(labels.shape[0]):\n",
    "    node_dict[i] = labels[i][0]"
   ]
  },
  {
   "cell_type": "code",
   "execution_count": 8,
   "metadata": {},
   "outputs": [],
   "source": [
    "node_features = dfnodes[['addr','OutCnt','OutAmount','OutValue','OutTransFee','InCnt','InAmount','InValue','InTransFee']].to_numpy()"
   ]
  },
  {
   "cell_type": "code",
   "execution_count": 9,
   "metadata": {},
   "outputs": [],
   "source": [
    "features = node_features[:,1:]"
   ]
  },
  {
   "cell_type": "code",
   "execution_count": 10,
   "metadata": {},
   "outputs": [],
   "source": [
    "train_ratio, val_ratio = 0.4, 0.2\n",
    "\n",
    "nodes_anomaly = []\n",
    "nodes_non_anomaly = []\n",
    "for i in range(len(labels)):\n",
    "    if labels[i][1]==1:\n",
    "        nodes_anomaly.append(i)\n",
    "    else:\n",
    "        nodes_non_anomaly.append(i)\n",
    "\n",
    "n = labels.shape[0]\n",
    "train_mask = torch.zeros(n).bool()\n",
    "val_mask = torch.zeros(n).bool()\n",
    "test_mask = torch.zeros(n).bool()\n",
    "\n",
    "import random\n",
    "random.shuffle(nodes_anomaly)\n",
    "train_ones = nodes_anomaly[:int(len(nodes_anomaly)*train_ratio)]\n",
    "val_ones = nodes_anomaly[int(len(nodes_anomaly)*train_ratio):int(len(nodes_anomaly)*(train_ratio+val_ratio))]\n",
    "test_ones = nodes_anomaly[int(len(nodes_anomaly)*(train_ratio+val_ratio)):]\n",
    "\n",
    "random.shuffle(nodes_non_anomaly)\n",
    "train_zeros = nodes_non_anomaly[:int(len(nodes_non_anomaly)*train_ratio)]\n",
    "val_zeros = nodes_non_anomaly[int(len(nodes_non_anomaly)*train_ratio):int(len(nodes_non_anomaly)*(train_ratio+val_ratio))]\n",
    "test_zeros = nodes_non_anomaly[int(len(nodes_non_anomaly)*(train_ratio+val_ratio)):]\n",
    "\n",
    "for i in train_ones+train_zeros:\n",
    "    train_mask[i] = True\n",
    "\n",
    "for i in val_ones+val_zeros:\n",
    "    val_mask[i] = True\n",
    "    \n",
    "for i in test_ones+test_zeros:\n",
    "    test_mask[i] = True"
   ]
  },
  {
   "cell_type": "code",
   "execution_count": 11,
   "metadata": {},
   "outputs": [],
   "source": [
    "dfedges = pd.read_csv(prefix+'/raw_data/tinyedges.csv')"
   ]
  },
  {
   "cell_type": "code",
   "execution_count": 12,
   "metadata": {},
   "outputs": [
    {
     "data": {
      "text/html": [
       "<div>\n",
       "<style scoped>\n",
       "    .dataframe tbody tr th:only-of-type {\n",
       "        vertical-align: middle;\n",
       "    }\n",
       "\n",
       "    .dataframe tbody tr th {\n",
       "        vertical-align: top;\n",
       "    }\n",
       "\n",
       "    .dataframe thead th {\n",
       "        text-align: right;\n",
       "    }\n",
       "</style>\n",
       "<table border=\"1\" class=\"dataframe\">\n",
       "  <thead>\n",
       "    <tr style=\"text-align: right;\">\n",
       "      <th></th>\n",
       "      <th>from</th>\n",
       "      <th>to</th>\n",
       "      <th>timestamp</th>\n",
       "      <th>transferedAmount</th>\n",
       "      <th>value</th>\n",
       "      <th>transactionFee</th>\n",
       "      <th>TxnsCnt</th>\n",
       "    </tr>\n",
       "  </thead>\n",
       "  <tbody>\n",
       "    <tr>\n",
       "      <th>0</th>\n",
       "      <td>0x1439b4d5a72343b68f12398c649df99d76b2af53</td>\n",
       "      <td>0x8c0a11eb047c1097c821c159b8e0c2c5f37f81bf</td>\n",
       "      <td>20220730032737</td>\n",
       "      <td>43</td>\n",
       "      <td>0.00</td>\n",
       "      <td>121.205</td>\n",
       "      <td>42</td>\n",
       "    </tr>\n",
       "    <tr>\n",
       "      <th>1</th>\n",
       "      <td>0x9ed3db7a8ec964ef0813edb7bf3ff514a25fae70</td>\n",
       "      <td>0xa5b36a3732937375bc579fa38159347da9938441</td>\n",
       "      <td>20220730021034</td>\n",
       "      <td>265</td>\n",
       "      <td>0.00</td>\n",
       "      <td>293.970</td>\n",
       "      <td>249</td>\n",
       "    </tr>\n",
       "    <tr>\n",
       "      <th>2</th>\n",
       "      <td>0xbdc4a5c0ff7275736cad102c7408555fb5d6c495</td>\n",
       "      <td>0x564a8e13d7dd23d5525160d204165bdbcb69b4db</td>\n",
       "      <td>20220729052058</td>\n",
       "      <td>43</td>\n",
       "      <td>0.00</td>\n",
       "      <td>52.096</td>\n",
       "      <td>43</td>\n",
       "    </tr>\n",
       "    <tr>\n",
       "      <th>3</th>\n",
       "      <td>0x5e11534344b8c1fda947b37dc57b8734232a6b1c</td>\n",
       "      <td>0xd0c877b474cd51959931a7f70d7a6c60f50cdae7</td>\n",
       "      <td>20220729042239</td>\n",
       "      <td>1</td>\n",
       "      <td>157.01</td>\n",
       "      <td>1.990</td>\n",
       "      <td>1</td>\n",
       "    </tr>\n",
       "    <tr>\n",
       "      <th>4</th>\n",
       "      <td>0x58e14b71ef1a30f186000c5fb4e8ab993336f109</td>\n",
       "      <td>0x25f20e56dc90c79bb80896b613dbe9dc6b96ca04</td>\n",
       "      <td>20220729023044</td>\n",
       "      <td>11</td>\n",
       "      <td>16.49</td>\n",
       "      <td>7.230</td>\n",
       "      <td>2</td>\n",
       "    </tr>\n",
       "    <tr>\n",
       "      <th>...</th>\n",
       "      <td>...</td>\n",
       "      <td>...</td>\n",
       "      <td>...</td>\n",
       "      <td>...</td>\n",
       "      <td>...</td>\n",
       "      <td>...</td>\n",
       "      <td>...</td>\n",
       "    </tr>\n",
       "    <tr>\n",
       "      <th>227322</th>\n",
       "      <td>0x8cb7f1a4f44593ec356b11c70c0a977c647c763c</td>\n",
       "      <td>0xe5798a530bb7105e148d38ac884f05c28ed8e804</td>\n",
       "      <td>20220521042106</td>\n",
       "      <td>1</td>\n",
       "      <td>84.28</td>\n",
       "      <td>3.300</td>\n",
       "      <td>1</td>\n",
       "    </tr>\n",
       "    <tr>\n",
       "      <th>227323</th>\n",
       "      <td>0x8cb7f1a4f44593ec356b11c70c0a977c647c763c</td>\n",
       "      <td>0x38e3d4a5bf7dea9280e389864d4bf9834cc2f266</td>\n",
       "      <td>20220521034547</td>\n",
       "      <td>1</td>\n",
       "      <td>84.28</td>\n",
       "      <td>4.530</td>\n",
       "      <td>1</td>\n",
       "    </tr>\n",
       "    <tr>\n",
       "      <th>227324</th>\n",
       "      <td>0x8cb7f1a4f44593ec356b11c70c0a977c647c763c</td>\n",
       "      <td>0x3cd378c9b1cb5f147ebf1b2c2564118946ae4ba1</td>\n",
       "      <td>20220520212804</td>\n",
       "      <td>1</td>\n",
       "      <td>84.28</td>\n",
       "      <td>5.120</td>\n",
       "      <td>1</td>\n",
       "    </tr>\n",
       "    <tr>\n",
       "      <th>227325</th>\n",
       "      <td>0x8cb7f1a4f44593ec356b11c70c0a977c647c763c</td>\n",
       "      <td>0xbc6819c533db537ad8e169d8d67e3c8971c0417f</td>\n",
       "      <td>20220520204309</td>\n",
       "      <td>2</td>\n",
       "      <td>168.51</td>\n",
       "      <td>13.460</td>\n",
       "      <td>2</td>\n",
       "    </tr>\n",
       "    <tr>\n",
       "      <th>227326</th>\n",
       "      <td>0x8cb7f1a4f44593ec356b11c70c0a977c647c763c</td>\n",
       "      <td>0x04f443bf89dae24a35f523130cabff709fb1b22c</td>\n",
       "      <td>20220520203434</td>\n",
       "      <td>1</td>\n",
       "      <td>84.23</td>\n",
       "      <td>7.200</td>\n",
       "      <td>1</td>\n",
       "    </tr>\n",
       "  </tbody>\n",
       "</table>\n",
       "<p>227327 rows × 7 columns</p>\n",
       "</div>"
      ],
      "text/plain": [
       "                                              from  \\\n",
       "0       0x1439b4d5a72343b68f12398c649df99d76b2af53   \n",
       "1       0x9ed3db7a8ec964ef0813edb7bf3ff514a25fae70   \n",
       "2       0xbdc4a5c0ff7275736cad102c7408555fb5d6c495   \n",
       "3       0x5e11534344b8c1fda947b37dc57b8734232a6b1c   \n",
       "4       0x58e14b71ef1a30f186000c5fb4e8ab993336f109   \n",
       "...                                            ...   \n",
       "227322  0x8cb7f1a4f44593ec356b11c70c0a977c647c763c   \n",
       "227323  0x8cb7f1a4f44593ec356b11c70c0a977c647c763c   \n",
       "227324  0x8cb7f1a4f44593ec356b11c70c0a977c647c763c   \n",
       "227325  0x8cb7f1a4f44593ec356b11c70c0a977c647c763c   \n",
       "227326  0x8cb7f1a4f44593ec356b11c70c0a977c647c763c   \n",
       "\n",
       "                                                to       timestamp  \\\n",
       "0       0x8c0a11eb047c1097c821c159b8e0c2c5f37f81bf  20220730032737   \n",
       "1       0xa5b36a3732937375bc579fa38159347da9938441  20220730021034   \n",
       "2       0x564a8e13d7dd23d5525160d204165bdbcb69b4db  20220729052058   \n",
       "3       0xd0c877b474cd51959931a7f70d7a6c60f50cdae7  20220729042239   \n",
       "4       0x25f20e56dc90c79bb80896b613dbe9dc6b96ca04  20220729023044   \n",
       "...                                            ...             ...   \n",
       "227322  0xe5798a530bb7105e148d38ac884f05c28ed8e804  20220521042106   \n",
       "227323  0x38e3d4a5bf7dea9280e389864d4bf9834cc2f266  20220521034547   \n",
       "227324  0x3cd378c9b1cb5f147ebf1b2c2564118946ae4ba1  20220520212804   \n",
       "227325  0xbc6819c533db537ad8e169d8d67e3c8971c0417f  20220520204309   \n",
       "227326  0x04f443bf89dae24a35f523130cabff709fb1b22c  20220520203434   \n",
       "\n",
       "        transferedAmount   value  transactionFee  TxnsCnt  \n",
       "0                     43    0.00         121.205       42  \n",
       "1                    265    0.00         293.970      249  \n",
       "2                     43    0.00          52.096       43  \n",
       "3                      1  157.01           1.990        1  \n",
       "4                     11   16.49           7.230        2  \n",
       "...                  ...     ...             ...      ...  \n",
       "227322                 1   84.28           3.300        1  \n",
       "227323                 1   84.28           4.530        1  \n",
       "227324                 1   84.28           5.120        1  \n",
       "227325                 2  168.51          13.460        2  \n",
       "227326                 1   84.23           7.200        1  \n",
       "\n",
       "[227327 rows x 7 columns]"
      ]
     },
     "execution_count": 12,
     "metadata": {},
     "output_type": "execute_result"
    }
   ],
   "source": [
    "dfedges"
   ]
  },
  {
   "cell_type": "code",
   "execution_count": 13,
   "metadata": {},
   "outputs": [
    {
     "data": {
      "text/plain": [
       "array([['0x1439b4d5a72343b68f12398c649df99d76b2af53',\n",
       "        '0x8c0a11eb047c1097c821c159b8e0c2c5f37f81bf'],\n",
       "       ['0x9ed3db7a8ec964ef0813edb7bf3ff514a25fae70',\n",
       "        '0xa5b36a3732937375bc579fa38159347da9938441'],\n",
       "       ['0xbdc4a5c0ff7275736cad102c7408555fb5d6c495',\n",
       "        '0x564a8e13d7dd23d5525160d204165bdbcb69b4db'],\n",
       "       ...,\n",
       "       ['0x8cb7f1a4f44593ec356b11c70c0a977c647c763c',\n",
       "        '0x3cd378c9b1cb5f147ebf1b2c2564118946ae4ba1'],\n",
       "       ['0x8cb7f1a4f44593ec356b11c70c0a977c647c763c',\n",
       "        '0xbc6819c533db537ad8e169d8d67e3c8971c0417f'],\n",
       "       ['0x8cb7f1a4f44593ec356b11c70c0a977c647c763c',\n",
       "        '0x04f443bf89dae24a35f523130cabff709fb1b22c']], dtype=object)"
      ]
     },
     "execution_count": 13,
     "metadata": {},
     "output_type": "execute_result"
    }
   ],
   "source": [
    "edges = dfedges[['from','to']].to_numpy()\n",
    "edges"
   ]
  },
  {
   "cell_type": "code",
   "execution_count": 14,
   "metadata": {},
   "outputs": [],
   "source": [
    "new_edges = np.zeros_like(edges)"
   ]
  },
  {
   "cell_type": "code",
   "execution_count": 15,
   "metadata": {},
   "outputs": [],
   "source": [
    "for i in range(edges.shape[0]):\n",
    "    new_edges[i][0] = node_dict.inv[edges[i][0]]\n",
    "    new_edges[i][1] = node_dict.inv[edges[i][1]]"
   ]
  },
  {
   "cell_type": "code",
   "execution_count": 16,
   "metadata": {},
   "outputs": [],
   "source": [
    "graph = dgl.graph((new_edges[:,0].astype(int), new_edges[:,1].astype(int)))\n",
    "graph.ndata['train_mask'] = train_mask\n",
    "graph.ndata['val_mask'] = val_mask\n",
    "graph.ndata['test_mask'] = test_mask\n",
    "graph.ndata['label'] = torch.tensor(labels[:,1].astype(int))\n",
    "graph.ndata['feature'] = torch.tensor(features.astype(float))"
   ]
  },
  {
   "cell_type": "code",
   "execution_count": 17,
   "metadata": {},
   "outputs": [],
   "source": [
    "graph.edata['timestamp'] = torch.tensor(dfedges['timestamp'].astype(int))"
   ]
  },
  {
   "cell_type": "code",
   "execution_count": 18,
   "metadata": {},
   "outputs": [],
   "source": [
    "efeatures = dfedges[['TxnsCnt','transferedAmount','value','transactionFee']].to_numpy()"
   ]
  },
  {
   "cell_type": "code",
   "execution_count": 19,
   "metadata": {},
   "outputs": [],
   "source": [
    "graph.edata['feature'] = torch.tensor(efeatures)"
   ]
  },
  {
   "cell_type": "code",
   "execution_count": 20,
   "metadata": {},
   "outputs": [
    {
     "data": {
      "text/plain": [
       "Graph(num_nodes=20000, num_edges=227327,\n",
       "      ndata_schemes={'train_mask': Scheme(shape=(), dtype=torch.bool), 'val_mask': Scheme(shape=(), dtype=torch.bool), 'test_mask': Scheme(shape=(), dtype=torch.bool), 'label': Scheme(shape=(), dtype=torch.int64), 'feature': Scheme(shape=(8,), dtype=torch.float64)}\n",
       "      edata_schemes={'timestamp': Scheme(shape=(), dtype=torch.int64), 'feature': Scheme(shape=(4,), dtype=torch.float64)})"
      ]
     },
     "execution_count": 20,
     "metadata": {},
     "output_type": "execute_result"
    }
   ],
   "source": [
    "graph"
   ]
  },
  {
   "cell_type": "code",
   "execution_count": 21,
   "metadata": {},
   "outputs": [],
   "source": [
    "dgl.save_graphs(prefix+'/datasets/dgl_graph/tinynftgraph.bin', [graph])"
   ]
  },
  {
   "cell_type": "code",
   "execution_count": 22,
   "metadata": {},
   "outputs": [],
   "source": [
    "import torch\n",
    "from torch_geometric.data import Data\n",
    "\n",
    "c = torch.stack([graph.edges()[0], graph.edges()[1]], dim=1).t().contiguous()\n",
    "\n",
    "data = Data(x=graph.ndata['feature'],edge_index=c,y=graph.ndata['label'],train_mask=graph.ndata['train_mask'],\\\n",
    "            val_mask=graph.ndata['val_mask'],test_mask=graph.ndata['test_mask'],\\\n",
    "            edge_attr=graph.edata['feature'],etime=graph.edata['timestamp'])"
   ]
  },
  {
   "cell_type": "code",
   "execution_count": 23,
   "metadata": {},
   "outputs": [
    {
     "data": {
      "text/plain": [
       "Data(x=[20000, 8], edge_index=[2, 227327], edge_attr=[227327, 4], y=[20000], train_mask=[20000], val_mask=[20000], test_mask=[20000], etime=[227327])"
      ]
     },
     "execution_count": 23,
     "metadata": {},
     "output_type": "execute_result"
    }
   ],
   "source": [
    "data"
   ]
  },
  {
   "cell_type": "code",
   "execution_count": 24,
   "metadata": {},
   "outputs": [],
   "source": [
    "torch.save(data,prefix+'/datasets/pyg_graph/tinynftgraph.bin')"
   ]
  },
  {
   "cell_type": "code",
   "execution_count": 25,
   "metadata": {},
   "outputs": [],
   "source": [
    "from ogb.io import DatasetSaver\n",
    "from ogb.nodeproppred import NodePropPredDataset"
   ]
  },
  {
   "cell_type": "code",
   "execution_count": 26,
   "metadata": {},
   "outputs": [],
   "source": [
    "dataset_name = 'ogbn-tinynftgraph'"
   ]
  },
  {
   "cell_type": "code",
   "execution_count": 64,
   "metadata": {},
   "outputs": [],
   "source": [
    "saver = DatasetSaver(dataset_name = dataset_name,root=prefix+'/datasets/ogb_graph/submission', is_hetero = False, version = 1)"
   ]
  },
  {
   "cell_type": "code",
   "execution_count": 65,
   "metadata": {},
   "outputs": [],
   "source": [
    "g = dict()\n",
    "labels = np.array(data.y)\n",
    "graph_list = []"
   ]
  },
  {
   "cell_type": "code",
   "execution_count": 66,
   "metadata": {},
   "outputs": [
    {
     "data": {
      "text/plain": [
       "Data(x=[20000, 8], edge_index=[2, 227327], edge_attr=[227327, 4], y=[20000], train_mask=[20000], val_mask=[20000], test_mask=[20000], etime=[227327])"
      ]
     },
     "execution_count": 66,
     "metadata": {},
     "output_type": "execute_result"
    }
   ],
   "source": [
    "data"
   ]
  },
  {
   "cell_type": "code",
   "execution_count": 67,
   "metadata": {},
   "outputs": [
    {
     "name": "stdout",
     "output_type": "stream",
     "text": [
      "dict_keys(['num_nodes', 'node_feat', 'edge_index', 'edge_feat', 'edge_time'])\n",
      "Saving edge_index\n",
      "Saving all the files!\n",
      "Validating...\n",
      "Reading saved files\n",
      "Loading necessary files...\n",
      "This might take a while.\n",
      "Processing graphs...\n"
     ]
    },
    {
     "name": "stderr",
     "output_type": "stream",
     "text": [
      "100%|██████████| 1/1 [00:00<00:00, 6786.90it/s]\n"
     ]
    },
    {
     "name": "stdout",
     "output_type": "stream",
     "text": [
      "Checking read graphs and given graphs are the same\n"
     ]
    },
    {
     "name": "stderr",
     "output_type": "stream",
     "text": [
      "100%|██████████| 1/1 [00:00<00:00, 15.53it/s]\n"
     ]
    }
   ],
   "source": [
    "# fill dict\n",
    "g['num_nodes'] = int(data.num_nodes)\n",
    "g['node_feat'] = np.array(data.x) # axis = 1 is column!\n",
    "g['edge_index'] = np.array(data.edge_index)\n",
    "g['edge_feat'] = np.array(data.edge_attr)\n",
    "g['edge_time'] = np.array(data.etime)\n",
    "# saving a list of graphs\n",
    "graph_list.append(g)\n",
    "saver.save_graph_list(graph_list)\n",
    "saver.save_target_labels(labels.reshape(-1,1))"
   ]
  },
  {
   "cell_type": "code",
   "execution_count": 68,
   "metadata": {},
   "outputs": [],
   "source": [
    "split_idx = dict()\n",
    "num_data = len(labels)\n",
    "split_idx['train'] = data.train_mask.nonzero().squeeze()\n",
    "split_idx['valid'] = data.val_mask.nonzero().squeeze()\n",
    "split_idx['test'] = data.test_mask.nonzero().squeeze()\n",
    "saver.save_split(split_idx, split_name = 'random')"
   ]
  },
  {
   "cell_type": "code",
   "execution_count": 69,
   "metadata": {},
   "outputs": [],
   "source": [
    "mapping_path = prefix+'/datasets/mapping'\n",
    "os.makedirs(mapping_path,exist_ok=True)\n",
    "try:\n",
    "    os.mknod(os.path.join(mapping_path, 'README.md'))\n",
    "except:\n",
    "    print(\"Readme.md already exists.\")\n",
    "saver.copy_mapping_dir(mapping_path)"
   ]
  },
  {
   "cell_type": "code",
   "execution_count": 70,
   "metadata": {},
   "outputs": [
    {
     "name": "stdout",
     "output_type": "stream",
     "text": [
      "binary classification\n",
      "2\n"
     ]
    }
   ],
   "source": [
    "saver.save_task_info(task_type = 'binary classification', eval_metric = 'rocauc', num_classes = 2)"
   ]
  },
  {
   "cell_type": "code",
   "execution_count": 71,
   "metadata": {},
   "outputs": [],
   "source": [
    "meta_dict = saver.get_meta_dict()"
   ]
  },
  {
   "cell_type": "code",
   "execution_count": 72,
   "metadata": {},
   "outputs": [],
   "source": [
    "saver.zip()\n",
    "saver.cleanup()"
   ]
  },
  {
   "cell_type": "code",
   "execution_count": 73,
   "metadata": {},
   "outputs": [],
   "source": [
    "filedir = prefix+'/datasets/ogb_graph/submission_ogbn_tinynftgraph/tinynftgraph.zip'\n",
    "dstdirs = prefix+'/datasets/ogb_graph/submission_ogbn_tinynftgraph/tinynftgraph'"
   ]
  },
  {
   "cell_type": "code",
   "execution_count": 74,
   "metadata": {},
   "outputs": [
    {
     "name": "stdout",
     "output_type": "stream",
     "text": [
      "Archive:  /data/sx/NFTGraph/datasets/ogb_graph/submission_ogbn_tinynftgraph/tinynftgraph.zip\n",
      "   creating: /data/sx/NFTGraph/datasets/ogb_graph/submission_ogbn_tinynftgraph/tinynftgraph/mapping/\n",
      "   creating: /data/sx/NFTGraph/datasets/ogb_graph/submission_ogbn_tinynftgraph/tinynftgraph/processed/\n",
      "   creating: /data/sx/NFTGraph/datasets/ogb_graph/submission_ogbn_tinynftgraph/tinynftgraph/raw/\n",
      "   creating: /data/sx/NFTGraph/datasets/ogb_graph/submission_ogbn_tinynftgraph/tinynftgraph/split/\n",
      "  inflating: /data/sx/NFTGraph/datasets/ogb_graph/submission_ogbn_tinynftgraph/tinynftgraph/RELEASE_v1.txt  \n",
      "  inflating: /data/sx/NFTGraph/datasets/ogb_graph/submission_ogbn_tinynftgraph/tinynftgraph/mapping/README.md  \n",
      "   creating: /data/sx/NFTGraph/datasets/ogb_graph/submission_ogbn_tinynftgraph/tinynftgraph/split/random/\n",
      "  inflating: /data/sx/NFTGraph/datasets/ogb_graph/submission_ogbn_tinynftgraph/tinynftgraph/split/random/split_dict.pt  \n",
      "  inflating: /data/sx/NFTGraph/datasets/ogb_graph/submission_ogbn_tinynftgraph/tinynftgraph/raw/node-label.npz  \n",
      "  inflating: /data/sx/NFTGraph/datasets/ogb_graph/submission_ogbn_tinynftgraph/tinynftgraph/raw/data.npz  \n"
     ]
    }
   ],
   "source": [
    "!unzip $filedir -d $dstdirs"
   ]
  },
  {
   "cell_type": "code",
   "execution_count": 75,
   "metadata": {},
   "outputs": [
    {
     "name": "stdout",
     "output_type": "stream",
     "text": [
      "Loading necessary files...\n",
      "This might take a while.\n",
      "Processing graphs...\n"
     ]
    },
    {
     "name": "stderr",
     "output_type": "stream",
     "text": [
      "100%|██████████| 1/1 [00:00<00:00, 6307.22it/s]"
     ]
    },
    {
     "name": "stdout",
     "output_type": "stream",
     "text": [
      "Saving...\n"
     ]
    },
    {
     "name": "stderr",
     "output_type": "stream",
     "text": [
      "\n"
     ]
    }
   ],
   "source": [
    "dataset = NodePropPredDataset(dataset_name,root=prefix+'/dataset/',meta_dict = meta_dict)"
   ]
  },
  {
   "cell_type": "code",
   "execution_count": 76,
   "metadata": {},
   "outputs": [],
   "source": [
    "split_edge = dataset.get_idx_split()"
   ]
  },
  {
   "cell_type": "code",
   "execution_count": 1,
   "metadata": {},
   "outputs": [],
   "source": [
    "from ogb.io import DatasetSaver\n",
    "from ogb.linkproppred import LinkPropPredDataset"
   ]
  },
  {
   "cell_type": "code",
   "execution_count": 6,
   "metadata": {},
   "outputs": [
    {
     "data": {
      "text/plain": [
       "Data(x=[20000, 8], edge_index=[2, 227327], edge_attr=[227327, 4], y=[20000], train_mask=[20000], val_mask=[20000], test_mask=[20000], etime=[227327])"
      ]
     },
     "execution_count": 6,
     "metadata": {},
     "output_type": "execute_result"
    }
   ],
   "source": [
    "data = torch.load(prefix+'/datasets/pyg_graph/tinynftgraph')\n",
    "data"
   ]
  },
  {
   "cell_type": "code",
   "execution_count": 7,
   "metadata": {},
   "outputs": [],
   "source": [
    "dataset_name = 'ogbl-tinynftgraph'"
   ]
  },
  {
   "cell_type": "code",
   "execution_count": 8,
   "metadata": {},
   "outputs": [],
   "source": [
    "saver = DatasetSaver(dataset_name = dataset_name,root=prefix+'/datasets/ogb_graph/submission', is_hetero = False, version = 1)"
   ]
  },
  {
   "cell_type": "code",
   "execution_count": 9,
   "metadata": {},
   "outputs": [
    {
     "data": {
      "text/plain": [
       "Data(x=[20000, 8], edge_index=[2, 227327], edge_attr=[227327, 4], y=[20000], train_mask=[20000], val_mask=[20000], test_mask=[20000], etime=[227327])"
      ]
     },
     "execution_count": 9,
     "metadata": {},
     "output_type": "execute_result"
    }
   ],
   "source": [
    "data"
   ]
  },
  {
   "cell_type": "code",
   "execution_count": 10,
   "metadata": {},
   "outputs": [
    {
     "name": "stdout",
     "output_type": "stream",
     "text": [
      "Dataset: ogbl-tinynftgraph:\n",
      "======================\n",
      "data: Data(x=[20000, 8], edge_index=[2, 227327], edge_attr=[227327, 4], y=[20000], train_mask=[20000], val_mask=[20000], test_mask=[20000], etime=[227327])\n",
      "Number of nodes: 20000\n",
      "Number of edges: 227327\n",
      "Average node degree: 11.37\n",
      "Contains isolated nodes: True\n",
      "Contains self-loops: True\n"
     ]
    },
    {
     "name": "stdout",
     "output_type": "stream",
     "text": [
      "Is directed: True\n"
     ]
    }
   ],
   "source": [
    "print(f'Dataset: {dataset_name}:')\n",
    "print('======================')\n",
    "print(f'data: {data}')\n",
    "print(f'Number of nodes: {data.num_nodes}')\n",
    "print(f'Number of edges: {data.edge_index.shape[1]}')\n",
    "print(f'Average node degree: {data.num_edges / data.num_nodes:.2f}')\n",
    "print(f'Contains isolated nodes: {data.has_isolated_nodes()}')\n",
    "print(f'Contains self-loops: {data.has_self_loops()}')\n",
    "print(f'Is directed: {data.is_directed()}')"
   ]
  },
  {
   "cell_type": "code",
   "execution_count": 11,
   "metadata": {},
   "outputs": [
    {
     "name": "stdout",
     "output_type": "stream",
     "text": [
      "[{'num_nodes': 20000, 'node_feat': array([[2.65018600e+06, 7.21772400e+06, 7.12324960e+08, ...,\n",
      "        2.41079500e+06, 2.02961487e+07, 4.87968517e+06],\n",
      "       [2.04070000e+04, 2.26440000e+04, 0.00000000e+00, ...,\n",
      "        2.26440000e+04, 0.00000000e+00, 1.30683555e+05],\n",
      "       [6.00000000e+00, 1.20000000e+01, 0.00000000e+00, ...,\n",
      "        4.72230000e+04, 1.03678274e+05, 1.82144848e+05],\n",
      "       ...,\n",
      "       [1.70000000e+01, 1.70000000e+01, 4.19972667e+03, ...,\n",
      "        4.60000000e+01, 3.89278500e+03, 3.89240212e+02],\n",
      "       [1.50000000e+01, 1.16000000e+02, 1.84184450e+04, ...,\n",
      "        5.70000000e+01, 9.97024194e+03, 2.79756077e+02],\n",
      "       [4.00000000e+00, 4.00000000e+00, 1.98760000e+02, ...,\n",
      "        6.00000000e+01, 1.21701925e+04, 5.53641076e+02]]), 'edge_index': array([[ 9554,   407,  1325, ..., 13726, 13726, 13726],\n",
      "       [ 7525,  2972, 16808, ..., 15314,  6856,  8861]]), 'edge_feat': array([[ 42.   ,  43.   ,   0.   , 121.205],\n",
      "       [249.   , 265.   ,   0.   , 293.97 ],\n",
      "       [ 43.   ,  43.   ,   0.   ,  52.096],\n",
      "       ...,\n",
      "       [  1.   ,   1.   ,  84.28 ,   5.12 ],\n",
      "       [  2.   ,   2.   , 168.51 ,  13.46 ],\n",
      "       [  1.   ,   1.   ,  84.23 ,   7.2  ]])}]\n",
      "dict_keys(['num_nodes', 'node_feat', 'edge_index', 'edge_feat'])\n",
      "Saving edge_index\n",
      "Saving all the files!\n"
     ]
    },
    {
     "name": "stdout",
     "output_type": "stream",
     "text": [
      "Validating...\n",
      "Reading saved files\n",
      "Loading necessary files...\n",
      "This might take a while.\n",
      "Processing graphs...\n"
     ]
    },
    {
     "name": "stderr",
     "output_type": "stream",
     "text": [
      "100%|██████████| 1/1 [00:00<00:00, 5289.16it/s]\n"
     ]
    },
    {
     "name": "stdout",
     "output_type": "stream",
     "text": [
      "Checking read graphs and given graphs are the same\n"
     ]
    },
    {
     "name": "stderr",
     "output_type": "stream",
     "text": [
      "100%|██████████| 1/1 [00:00<00:00, 10.65it/s]\n"
     ]
    }
   ],
   "source": [
    "graph_list = []\n",
    "\n",
    "graph = dict()\n",
    "graph['num_nodes'] = int(data.num_nodes)\n",
    "graph['node_feat'] = np.array(data.x)\n",
    "graph['edge_index'] = data.edge_index.numpy() # only train pos edge index, but both directions / undirected!\n",
    "graph['edge_feat'] = data.edge_attr.numpy()\n",
    "graph_list.append(graph)\n",
    "\n",
    "print(graph_list)\n",
    "# saving a list of graphs\n",
    "saver.save_graph_list(graph_list)"
   ]
  },
  {
   "cell_type": "code",
   "execution_count": 12,
   "metadata": {},
   "outputs": [],
   "source": [
    "import math\n",
    "def custom_train_test_split_edges(data, val_ratio: float = 0.05, test_ratio: float = 0.1):\n",
    "    r\"\"\"Splits the edges of a :class:`torch_geometric.data.Data` object\n",
    "    into positive and negative train/val/test edges.\n",
    "    As such, it will replace the :obj:`edge_index` attribute with\n",
    "    :obj:`train_pos_edge_index`, :obj:`train_pos_neg_adj_mask`,\n",
    "    :obj:`val_pos_edge_index`, :obj:`val_neg_edge_index` and\n",
    "    :obj:`test_pos_edge_index` attributes.\n",
    "    If :obj:`data` has edge features named :obj:`edge_attr`, then\n",
    "    :obj:`train_pos_edge_attr`, :obj:`val_pos_edge_attr` and\n",
    "    :obj:`test_pos_edge_attr` will be added as well.\n",
    "\n",
    "    Args:\n",
    "        data (Data): The data object.\n",
    "        val_ratio (float, optional): The ratio of positive validation edges.\n",
    "            (default: :obj:`0.05`)\n",
    "        test_ratio (float, optional): The ratio of positive test edges.\n",
    "            (default: :obj:`0.1`)\n",
    "\n",
    "    :rtype: :class:`torch_geometric.data.Data`\n",
    "    \"\"\"\n",
    "\n",
    "    assert 'batch' not in data  # No batch-mode.\n",
    "\n",
    "    num_nodes = data.num_nodes\n",
    "    original_edge_index = data.edge_index\n",
    "    row, col = data.edge_index\n",
    "    edge_attr = data.edge_attr\n",
    "    data.edge_index = data.edge_attr = None\n",
    "\n",
    "    # Return upper triangular portion.\n",
    "    mask = row < col\n",
    "    row, col = row[mask], col[mask]\n",
    "\n",
    "    if edge_attr is not None:\n",
    "        edge_attr = edge_attr[mask]\n",
    "\n",
    "    n_v = int(math.floor(val_ratio * row.size(0)))\n",
    "    n_t = int(math.floor(test_ratio * row.size(0)))\n",
    "\n",
    "    # Positive edges.\n",
    "    perm = torch.randperm(row.size(0))\n",
    "    row, col = row[perm], col[perm]\n",
    "    if edge_attr is not None:\n",
    "        edge_attr = edge_attr[perm]\n",
    "\n",
    "    r, c = row[:n_v], col[:n_v]\n",
    "    data.val_pos_edge_index = torch.stack([r, c], dim=0)\n",
    "    if edge_attr is not None:\n",
    "        data.val_pos_edge_attr = edge_attr[:n_v]\n",
    "\n",
    "    r, c = row[n_v:n_v + n_t], col[n_v:n_v + n_t]\n",
    "    data.test_pos_edge_index = torch.stack([r, c], dim=0)\n",
    "    if edge_attr is not None:\n",
    "        data.test_pos_edge_attr = edge_attr[n_v:n_v + n_t]\n",
    "\n",
    "    r, c = row[n_v + n_t:], col[n_v + n_t:]\n",
    "\n",
    "    # this section is custom\n",
    "    # -----------------------\n",
    "    data.train_pos_edge_index = torch.stack([r, c], dim=0)\n",
    "\n",
    "    helper = data.train_pos_edge_index\n",
    "\n",
    "    # if edge_attr is not None:\n",
    "    #     out = to_undirected(data.train_pos_edge_index, edge_attr[n_v + n_t:])\n",
    "    #     data.edge_index, data.edge_attr = out\n",
    "    # else:\n",
    "    #     data.edge_index = to_undirected(data.train_pos_edge_index)\n",
    "\n",
    "    data.train_pos_edge_index = helper\n",
    "\n",
    "    if edge_attr is not None:\n",
    "        data.train_pos_edge_attr = edge_attr[n_v + n_t:]\n",
    "    # -----------------------\n",
    "\n",
    "    data.edge_index = original_edge_index\n",
    "\n",
    "    \n",
    "    # generate negative edge list by randomly sampling the nodes!\n",
    "    neg_edge_list = np.array(np.random.randint(low=0, high=num_nodes,\n",
    "                                               size=(2*data.edge_index.shape[1],)). # left and right edge - 2x, to be safe:3.4\n",
    "                             reshape((data.edge_index.shape[1],2)))\n",
    "\n",
    "    a = np.min(neg_edge_list, axis=1)\n",
    "    b = np.max(neg_edge_list, axis=1)\n",
    "\n",
    "    neg_edge_list = np.vstack((a,b)).transpose()\n",
    "\n",
    "    # filter for unique edges in the negative edge list\n",
    "\n",
    "    # obtain the indexes of the first occuring objects\n",
    "    # _, indices = np.unique(edges[:,[0,1]],return_index=True,axis=0)\n",
    "    _, indices = np.unique(neg_edge_list[:,[0,1]],return_index=True,axis=0)\n",
    "\n",
    "    neg_edge_list = neg_edge_list[indices]\n",
    "\n",
    "    all_edges = np.concatenate((np.array(data.edge_index.t()),neg_edge_list), axis=0) # concat positive edges of graph and negative edges\n",
    "\n",
    "    # obtain the indexes of unique objects\n",
    "    _, indices = np.unique(all_edges[:, [0, 1]], return_index=True, axis=0)\n",
    "\n",
    "    # sort indices\n",
    "\n",
    "    indices = np.sort(indices)\n",
    "    indices = indices[indices > data.edge_index.shape[1]] # remove the indices of the positive edges!\n",
    "    neg_edge_list = torch.tensor(all_edges[indices])\n",
    "\n",
    "    # sample edges according to percentage\n",
    "\n",
    "    ind = torch.randperm(neg_edge_list.shape[0])\n",
    "\n",
    "    data.val_neg_edge_index = neg_edge_list[ind[:n_v]].t()\n",
    "    data.test_neg_edge_index = neg_edge_list[ind[n_v:n_v+n_t]].t()\n",
    "    data.train_neg_edge_index = neg_edge_list[ind[n_v+n_t:n_v+n_t+data.train_pos_edge_index.shape[1]]].t()\n",
    "\n",
    "    \"\"\"\n",
    "    #Original Sampling: allocates to much memory\n",
    "\n",
    "    # Negative edges.\n",
    "    neg_adj_mask = torch.ones(num_nodes, num_nodes, dtype=torch.uint8)\n",
    "    neg_adj_mask = neg_adj_mask.triu(diagonal=1).to(torch.bool)\n",
    "    neg_adj_mask[row, col] = 0\n",
    "\n",
    "    neg_row, neg_col = neg_adj_mask.nonzero(as_tuple=False).t()\n",
    "    ind = torch.randperm(neg_row.size(0))\n",
    "    perm = ind[:n_v + n_t]\n",
    "    perm_train = ind[n_v+n_t:n_v+n_t+data.train_pos_edge_index.shape[1]]\n",
    "    neg_row_train, neg_col_train = neg_row[perm_train], neg_col[perm_train]\n",
    "    neg_row, neg_col = neg_row[perm], neg_col[perm]\n",
    "\n",
    "    neg_adj_mask[neg_row, neg_col] = 0\n",
    "    data.train_neg_adj_mask = neg_adj_mask\n",
    "\n",
    "    row, col = neg_row[:n_v], neg_col[:n_v]\n",
    "    data.val_neg_edge_index = torch.stack([row, col], dim=0)\n",
    "\n",
    "    row, col = neg_row[n_v:n_v + n_t], neg_col[n_v:n_v + n_t]\n",
    "    data.test_neg_edge_index = torch.stack([row, col], dim=0)\n",
    "\n",
    "    row, col = neg_row_train , neg_col_train\n",
    "    data.train_neg_edge_index = torch.stack([row, col], dim=0)\n",
    "    \"\"\"\n",
    "\n",
    "    return data"
   ]
  },
  {
   "cell_type": "code",
   "execution_count": 13,
   "metadata": {},
   "outputs": [],
   "source": [
    "val_ratio = 0.2\n",
    "test_ratio = 0.4"
   ]
  },
  {
   "cell_type": "code",
   "execution_count": 14,
   "metadata": {},
   "outputs": [],
   "source": [
    "data = custom_train_test_split_edges(data, val_ratio=val_ratio, test_ratio = test_ratio)"
   ]
  },
  {
   "cell_type": "code",
   "execution_count": 15,
   "metadata": {},
   "outputs": [],
   "source": [
    "del data.train_mask,data.val_mask,data.test_mask"
   ]
  },
  {
   "cell_type": "code",
   "execution_count": 16,
   "metadata": {},
   "outputs": [
    {
     "data": {
      "text/plain": [
       "Data(x=[20000, 8], y=[20000], etime=[227327], val_pos_edge_index=[2, 28776], val_pos_edge_attr=[28776, 4], test_pos_edge_index=[2, 57553], test_pos_edge_attr=[57553, 4], train_pos_edge_index=[2, 57554], train_pos_edge_attr=[57554, 4], edge_index=[2, 227327], val_neg_edge_index=[2, 28776], test_neg_edge_index=[2, 57553], train_neg_edge_index=[2, 57554])"
      ]
     },
     "execution_count": 16,
     "metadata": {},
     "output_type": "execute_result"
    }
   ],
   "source": [
    "data"
   ]
  },
  {
   "cell_type": "code",
   "execution_count": 17,
   "metadata": {},
   "outputs": [],
   "source": [
    "split_edge = {'train': {}, 'valid': {}, 'test': {}}"
   ]
  },
  {
   "cell_type": "code",
   "execution_count": 18,
   "metadata": {},
   "outputs": [],
   "source": [
    "split_edge['train']['edge'] = data.train_pos_edge_index.t() # these are only one directional\n",
    "split_edge['train']['edge_neg'] = data.train_neg_edge_index.t() # these are only one directional\n",
    "split_edge['valid']['edge'] = data.val_pos_edge_index.t() # these are only one directional\n",
    "split_edge['valid']['edge_neg'] = data.val_neg_edge_index.t()  # these are only one directional\n",
    "split_edge['test']['edge'] = data.test_pos_edge_index.t()  # these are only one directional\n",
    "split_edge['test']['edge_neg'] = data.test_neg_edge_index.t()  # these are only one directional"
   ]
  },
  {
   "cell_type": "code",
   "execution_count": 19,
   "metadata": {},
   "outputs": [],
   "source": [
    "split_edge['train']['edge_attr'] = data.train_pos_edge_attr.t() # these are only one directional\n",
    "split_edge['test']['edge_attr'] = data.test_pos_edge_attr.t() # these are only one directional\n",
    "split_edge['valid']['edge_attr'] = data.val_pos_edge_attr.t() # these are only one directional"
   ]
  },
  {
   "cell_type": "code",
   "execution_count": 20,
   "metadata": {},
   "outputs": [],
   "source": [
    "saver.save_split(split_edge, split_name = 'random')"
   ]
  },
  {
   "cell_type": "code",
   "execution_count": 21,
   "metadata": {},
   "outputs": [
    {
     "data": {
      "text/plain": [
       "{'train': {'edge': tensor([[    0,  8129],\n",
       "          [ 7942, 16786],\n",
       "          [  136,  2093],\n",
       "          ...,\n",
       "          [  167, 17092],\n",
       "          [    0,   723],\n",
       "          [ 1317,  2311]]),\n",
       "  'edge_neg': tensor([[10825, 19296],\n",
       "          [12958, 19563],\n",
       "          [15646, 16584],\n",
       "          ...,\n",
       "          [12952, 14736],\n",
       "          [ 6187, 18765],\n",
       "          [  129, 11565]]),\n",
       "  'edge_attr': tensor([[3.0000e+00, 2.0000e+00, 1.0000e+00,  ..., 1.0000e+00, 2.9000e+01,\n",
       "           1.0000e+00],\n",
       "          [1.6000e+01, 2.0000e+00, 1.0000e+00,  ..., 1.0000e+00, 4.9000e+02,\n",
       "           1.0000e+00],\n",
       "          [0.0000e+00, 5.5200e+01, 1.9400e-01,  ..., 0.0000e+00, 4.6522e+02,\n",
       "           1.1069e+03],\n",
       "          [2.6710e+01, 4.2680e+01, 3.5878e+00,  ..., 1.7800e+00, 2.2647e+02,\n",
       "           2.7760e+01]], dtype=torch.float64)},\n",
       " 'valid': {'edge': tensor([[  668, 18719],\n",
       "          [ 3563,  8939],\n",
       "          [   53, 16962],\n",
       "          ...,\n",
       "          [  204,  6487],\n",
       "          [ 6001, 13667],\n",
       "          [   93, 19096]]),\n",
       "  'edge_neg': tensor([[16063, 18066],\n",
       "          [11410, 17848],\n",
       "          [ 5960, 15812],\n",
       "          ...,\n",
       "          [ 7083, 10697],\n",
       "          [  325, 13175],\n",
       "          [15889, 17703]]),\n",
       "  'edge_attr': tensor([[1.0000e+00, 1.0000e+00, 1.0000e+00,  ..., 3.0000e+00, 2.0000e+00,\n",
       "           1.0000e+00],\n",
       "          [1.0000e+00, 1.0000e+00, 1.0000e+00,  ..., 9.0000e+00, 2.0000e+00,\n",
       "           1.0000e+00],\n",
       "          [1.1878e+02, 7.4984e+02, 0.0000e+00,  ..., 0.0000e+00, 8.7450e+02,\n",
       "           0.0000e+00],\n",
       "          [2.4500e+00, 2.5060e+01, 1.0019e-01,  ..., 7.8283e+00, 1.0562e+02,\n",
       "           6.0300e+00]], dtype=torch.float64)},\n",
       " 'test': {'edge': tensor([[    6,   236],\n",
       "          [    6,  6664],\n",
       "          [16953, 17043],\n",
       "          ...,\n",
       "          [   34, 15941],\n",
       "          [  245,  4437],\n",
       "          [  351,  1889]]),\n",
       "  'edge_neg': tensor([[ 6147, 17511],\n",
       "          [ 2846, 11479],\n",
       "          [ 8513, 18257],\n",
       "          ...,\n",
       "          [  590, 17392],\n",
       "          [ 3473, 16986],\n",
       "          [14111, 19744]]),\n",
       "  'edge_attr': tensor([[1.0000e+00, 1.0000e+00, 1.0000e+00,  ..., 1.2000e+01, 1.0000e+00,\n",
       "           1.0000e+00],\n",
       "          [1.0000e+00, 1.0000e+00, 1.0000e+00,  ..., 1.2000e+01, 1.0000e+00,\n",
       "           2.0000e+00],\n",
       "          [0.0000e+00, 0.0000e+00, 3.6617e+02,  ..., 0.0000e+00, 5.9900e+00,\n",
       "           0.0000e+00],\n",
       "          [1.0830e+01, 2.7280e+01, 1.9880e+01,  ..., 5.9320e+01, 1.4080e+01,\n",
       "           6.4343e-02]], dtype=torch.float64)}}"
      ]
     },
     "execution_count": 21,
     "metadata": {},
     "output_type": "execute_result"
    }
   ],
   "source": [
    "split_edge"
   ]
  },
  {
   "cell_type": "code",
   "execution_count": 22,
   "metadata": {},
   "outputs": [
    {
     "name": "stdout",
     "output_type": "stream",
     "text": [
      "Readme.md already exists.\n"
     ]
    }
   ],
   "source": [
    "mapping_path = prefix+'/mapping/'\n",
    "\n",
    "# prepare mapping information first and store it under this directory (empty below).\n",
    "os.makedirs(mapping_path,exist_ok=True)\n",
    "try:\n",
    "    os.mknod(os.path.join(mapping_path, 'README.md'))\n",
    "except:\n",
    "    print(\"Readme.md already exists.\")\n",
    "saver.copy_mapping_dir(mapping_path)"
   ]
  },
  {
   "cell_type": "code",
   "execution_count": 23,
   "metadata": {},
   "outputs": [
    {
     "name": "stdout",
     "output_type": "stream",
     "text": [
      "link prediction\n",
      "None\n"
     ]
    }
   ],
   "source": [
    "saver.save_task_info(task_type = 'link prediction', eval_metric = 'mrr')"
   ]
  },
  {
   "cell_type": "code",
   "execution_count": 24,
   "metadata": {},
   "outputs": [
    {
     "name": "stdout",
     "output_type": "stream",
     "text": [
      "{'version': 1, 'dir_path': '/data/sx/NFTGraph/datasets/ogb_graph/submission_ogbl_tinynftgraph/tinynftgraph', 'binary': 'True', 'task type': 'link prediction', 'eval metric': 'mrr', 'add_inverse_edge': 'False', 'split': 'random', 'download_name': 'tinynftgraph', 'url': 'https://snap.stanford.edu/ogb/data/linkproppred/tinynftgraph.zip', 'has_node_attr': 'True', 'has_edge_attr': 'True', 'additional node files': 'None', 'additional edge files': 'None', 'is hetero': 'False'}\n"
     ]
    }
   ],
   "source": [
    "meta_dict = saver.get_meta_dict()\n",
    "print(meta_dict)"
   ]
  },
  {
   "cell_type": "code",
   "execution_count": 25,
   "metadata": {},
   "outputs": [],
   "source": [
    "saver.zip()\n",
    "saver.cleanup()"
   ]
  },
  {
   "cell_type": "code",
   "execution_count": 28,
   "metadata": {},
   "outputs": [],
   "source": [
    "filedir = prefix+'/datasets/ogb_graph/submission_ogbl_tinynftgraph/tinynftgraph.zip'\n",
    "dstdirs = prefix+'/datasets/ogb_graph/submission_ogbl_tinynftgraph/tinynftgraph'"
   ]
  },
  {
   "cell_type": "code",
   "execution_count": 29,
   "metadata": {},
   "outputs": [
    {
     "name": "stdout",
     "output_type": "stream",
     "text": [
      "Archive:  /data/sx/NFTGraph/datasets/ogb_graph/submission_ogbl_tinynftgraph/tinynftgraph.zip\n",
      "   creating: /data/sx/NFTGraph/datasets/ogb_graph/submission_ogbl_tinynftgraph/tinynftgraph/mapping/\n",
      "   creating: /data/sx/NFTGraph/datasets/ogb_graph/submission_ogbl_tinynftgraph/tinynftgraph/processed/\n",
      "   creating: /data/sx/NFTGraph/datasets/ogb_graph/submission_ogbl_tinynftgraph/tinynftgraph/raw/\n",
      "   creating: /data/sx/NFTGraph/datasets/ogb_graph/submission_ogbl_tinynftgraph/tinynftgraph/split/\n",
      "  inflating: /data/sx/NFTGraph/datasets/ogb_graph/submission_ogbl_tinynftgraph/tinynftgraph/RELEASE_v1.txt  \n",
      "  inflating: /data/sx/NFTGraph/datasets/ogb_graph/submission_ogbl_tinynftgraph/tinynftgraph/mapping/README.md  \n",
      "   creating: /data/sx/NFTGraph/datasets/ogb_graph/submission_ogbl_tinynftgraph/tinynftgraph/split/random/\n",
      "  inflating: /data/sx/NFTGraph/datasets/ogb_graph/submission_ogbl_tinynftgraph/tinynftgraph/split/random/split_dict.pt  "
     ]
    },
    {
     "name": "stdout",
     "output_type": "stream",
     "text": [
      "\n",
      "  inflating: /data/sx/NFTGraph/datasets/ogb_graph/submission_ogbl_tinynftgraph/tinynftgraph/raw/data.npz  \n"
     ]
    }
   ],
   "source": [
    "!unzip $filedir -d $dstdirs"
   ]
  },
  {
   "cell_type": "code",
   "execution_count": 30,
   "metadata": {},
   "outputs": [
    {
     "name": "stdout",
     "output_type": "stream",
     "text": [
      "Loading necessary files...\n",
      "This might take a while.\n",
      "Processing graphs...\n"
     ]
    },
    {
     "name": "stderr",
     "output_type": "stream",
     "text": [
      "100%|██████████| 1/1 [00:00<00:00, 6990.51it/s]"
     ]
    },
    {
     "name": "stdout",
     "output_type": "stream",
     "text": [
      "Saving...\n"
     ]
    },
    {
     "name": "stderr",
     "output_type": "stream",
     "text": [
      "\n"
     ]
    }
   ],
   "source": [
    "dataset = LinkPropPredDataset(dataset_name,root=prefix+'/datasets/', meta_dict = meta_dict)"
   ]
  },
  {
   "cell_type": "code",
   "execution_count": 31,
   "metadata": {},
   "outputs": [
    {
     "data": {
      "text/plain": [
       "{'train': {'edge': tensor([[    0,  8129],\n",
       "          [ 7942, 16786],\n",
       "          [  136,  2093],\n",
       "          ...,\n",
       "          [  167, 17092],\n",
       "          [    0,   723],\n",
       "          [ 1317,  2311]]),\n",
       "  'edge_neg': tensor([[10825, 19296],\n",
       "          [12958, 19563],\n",
       "          [15646, 16584],\n",
       "          ...,\n",
       "          [12952, 14736],\n",
       "          [ 6187, 18765],\n",
       "          [  129, 11565]]),\n",
       "  'edge_attr': tensor([[3.0000e+00, 2.0000e+00, 1.0000e+00,  ..., 1.0000e+00, 2.9000e+01,\n",
       "           1.0000e+00],\n",
       "          [1.6000e+01, 2.0000e+00, 1.0000e+00,  ..., 1.0000e+00, 4.9000e+02,\n",
       "           1.0000e+00],\n",
       "          [0.0000e+00, 5.5200e+01, 1.9400e-01,  ..., 0.0000e+00, 4.6522e+02,\n",
       "           1.1069e+03],\n",
       "          [2.6710e+01, 4.2680e+01, 3.5878e+00,  ..., 1.7800e+00, 2.2647e+02,\n",
       "           2.7760e+01]], dtype=torch.float64)},\n",
       " 'valid': {'edge': tensor([[  668, 18719],\n",
       "          [ 3563,  8939],\n",
       "          [   53, 16962],\n",
       "          ...,\n",
       "          [  204,  6487],\n",
       "          [ 6001, 13667],\n",
       "          [   93, 19096]]),\n",
       "  'edge_neg': tensor([[16063, 18066],\n",
       "          [11410, 17848],\n",
       "          [ 5960, 15812],\n",
       "          ...,\n",
       "          [ 7083, 10697],\n",
       "          [  325, 13175],\n",
       "          [15889, 17703]]),\n",
       "  'edge_attr': tensor([[1.0000e+00, 1.0000e+00, 1.0000e+00,  ..., 3.0000e+00, 2.0000e+00,\n",
       "           1.0000e+00],\n",
       "          [1.0000e+00, 1.0000e+00, 1.0000e+00,  ..., 9.0000e+00, 2.0000e+00,\n",
       "           1.0000e+00],\n",
       "          [1.1878e+02, 7.4984e+02, 0.0000e+00,  ..., 0.0000e+00, 8.7450e+02,\n",
       "           0.0000e+00],\n",
       "          [2.4500e+00, 2.5060e+01, 1.0019e-01,  ..., 7.8283e+00, 1.0562e+02,\n",
       "           6.0300e+00]], dtype=torch.float64)},\n",
       " 'test': {'edge': tensor([[    6,   236],\n",
       "          [    6,  6664],\n",
       "          [16953, 17043],\n",
       "          ...,\n",
       "          [   34, 15941],\n",
       "          [  245,  4437],\n",
       "          [  351,  1889]]),\n",
       "  'edge_neg': tensor([[ 6147, 17511],\n",
       "          [ 2846, 11479],\n",
       "          [ 8513, 18257],\n",
       "          ...,\n",
       "          [  590, 17392],\n",
       "          [ 3473, 16986],\n",
       "          [14111, 19744]]),\n",
       "  'edge_attr': tensor([[1.0000e+00, 1.0000e+00, 1.0000e+00,  ..., 1.2000e+01, 1.0000e+00,\n",
       "           1.0000e+00],\n",
       "          [1.0000e+00, 1.0000e+00, 1.0000e+00,  ..., 1.2000e+01, 1.0000e+00,\n",
       "           2.0000e+00],\n",
       "          [0.0000e+00, 0.0000e+00, 3.6617e+02,  ..., 0.0000e+00, 5.9900e+00,\n",
       "           0.0000e+00],\n",
       "          [1.0830e+01, 2.7280e+01, 1.9880e+01,  ..., 5.9320e+01, 1.4080e+01,\n",
       "           6.4343e-02]], dtype=torch.float64)}}"
      ]
     },
     "execution_count": 31,
     "metadata": {},
     "output_type": "execute_result"
    }
   ],
   "source": [
    "dataset.get_edge_split()"
   ]
  },
  {
   "cell_type": "code",
   "execution_count": 36,
   "metadata": {},
   "outputs": [
    {
     "data": {
      "text/html": [
       "<div>\n",
       "<style scoped>\n",
       "    .dataframe tbody tr th:only-of-type {\n",
       "        vertical-align: middle;\n",
       "    }\n",
       "\n",
       "    .dataframe tbody tr th {\n",
       "        vertical-align: top;\n",
       "    }\n",
       "\n",
       "    .dataframe thead th {\n",
       "        text-align: right;\n",
       "    }\n",
       "</style>\n",
       "<table border=\"1\" class=\"dataframe\">\n",
       "  <thead>\n",
       "    <tr style=\"text-align: right;\">\n",
       "      <th></th>\n",
       "      <th>from</th>\n",
       "      <th>to</th>\n",
       "      <th>timestamp</th>\n",
       "      <th>transferedAmount</th>\n",
       "      <th>value</th>\n",
       "      <th>transactionFee</th>\n",
       "      <th>TxnsCnt</th>\n",
       "    </tr>\n",
       "  </thead>\n",
       "  <tbody>\n",
       "    <tr>\n",
       "      <th>0</th>\n",
       "      <td>0x1439b4d5a72343b68f12398c649df99d76b2af53</td>\n",
       "      <td>0x8c0a11eb047c1097c821c159b8e0c2c5f37f81bf</td>\n",
       "      <td>20220730032737</td>\n",
       "      <td>43</td>\n",
       "      <td>0.00</td>\n",
       "      <td>121.205</td>\n",
       "      <td>42</td>\n",
       "    </tr>\n",
       "    <tr>\n",
       "      <th>1</th>\n",
       "      <td>0x9ed3db7a8ec964ef0813edb7bf3ff514a25fae70</td>\n",
       "      <td>0xa5b36a3732937375bc579fa38159347da9938441</td>\n",
       "      <td>20220730021034</td>\n",
       "      <td>265</td>\n",
       "      <td>0.00</td>\n",
       "      <td>293.970</td>\n",
       "      <td>249</td>\n",
       "    </tr>\n",
       "    <tr>\n",
       "      <th>2</th>\n",
       "      <td>0xbdc4a5c0ff7275736cad102c7408555fb5d6c495</td>\n",
       "      <td>0x564a8e13d7dd23d5525160d204165bdbcb69b4db</td>\n",
       "      <td>20220729052058</td>\n",
       "      <td>43</td>\n",
       "      <td>0.00</td>\n",
       "      <td>52.096</td>\n",
       "      <td>43</td>\n",
       "    </tr>\n",
       "    <tr>\n",
       "      <th>3</th>\n",
       "      <td>0x5e11534344b8c1fda947b37dc57b8734232a6b1c</td>\n",
       "      <td>0xd0c877b474cd51959931a7f70d7a6c60f50cdae7</td>\n",
       "      <td>20220729042239</td>\n",
       "      <td>1</td>\n",
       "      <td>157.01</td>\n",
       "      <td>1.990</td>\n",
       "      <td>1</td>\n",
       "    </tr>\n",
       "    <tr>\n",
       "      <th>4</th>\n",
       "      <td>0x58e14b71ef1a30f186000c5fb4e8ab993336f109</td>\n",
       "      <td>0x25f20e56dc90c79bb80896b613dbe9dc6b96ca04</td>\n",
       "      <td>20220729023044</td>\n",
       "      <td>11</td>\n",
       "      <td>16.49</td>\n",
       "      <td>7.230</td>\n",
       "      <td>2</td>\n",
       "    </tr>\n",
       "    <tr>\n",
       "      <th>...</th>\n",
       "      <td>...</td>\n",
       "      <td>...</td>\n",
       "      <td>...</td>\n",
       "      <td>...</td>\n",
       "      <td>...</td>\n",
       "      <td>...</td>\n",
       "      <td>...</td>\n",
       "    </tr>\n",
       "    <tr>\n",
       "      <th>227322</th>\n",
       "      <td>0x8cb7f1a4f44593ec356b11c70c0a977c647c763c</td>\n",
       "      <td>0xe5798a530bb7105e148d38ac884f05c28ed8e804</td>\n",
       "      <td>20220521042106</td>\n",
       "      <td>1</td>\n",
       "      <td>84.28</td>\n",
       "      <td>3.300</td>\n",
       "      <td>1</td>\n",
       "    </tr>\n",
       "    <tr>\n",
       "      <th>227323</th>\n",
       "      <td>0x8cb7f1a4f44593ec356b11c70c0a977c647c763c</td>\n",
       "      <td>0x38e3d4a5bf7dea9280e389864d4bf9834cc2f266</td>\n",
       "      <td>20220521034547</td>\n",
       "      <td>1</td>\n",
       "      <td>84.28</td>\n",
       "      <td>4.530</td>\n",
       "      <td>1</td>\n",
       "    </tr>\n",
       "    <tr>\n",
       "      <th>227324</th>\n",
       "      <td>0x8cb7f1a4f44593ec356b11c70c0a977c647c763c</td>\n",
       "      <td>0x3cd378c9b1cb5f147ebf1b2c2564118946ae4ba1</td>\n",
       "      <td>20220520212804</td>\n",
       "      <td>1</td>\n",
       "      <td>84.28</td>\n",
       "      <td>5.120</td>\n",
       "      <td>1</td>\n",
       "    </tr>\n",
       "    <tr>\n",
       "      <th>227325</th>\n",
       "      <td>0x8cb7f1a4f44593ec356b11c70c0a977c647c763c</td>\n",
       "      <td>0xbc6819c533db537ad8e169d8d67e3c8971c0417f</td>\n",
       "      <td>20220520204309</td>\n",
       "      <td>2</td>\n",
       "      <td>168.51</td>\n",
       "      <td>13.460</td>\n",
       "      <td>2</td>\n",
       "    </tr>\n",
       "    <tr>\n",
       "      <th>227326</th>\n",
       "      <td>0x8cb7f1a4f44593ec356b11c70c0a977c647c763c</td>\n",
       "      <td>0x04f443bf89dae24a35f523130cabff709fb1b22c</td>\n",
       "      <td>20220520203434</td>\n",
       "      <td>1</td>\n",
       "      <td>84.23</td>\n",
       "      <td>7.200</td>\n",
       "      <td>1</td>\n",
       "    </tr>\n",
       "  </tbody>\n",
       "</table>\n",
       "<p>227327 rows × 7 columns</p>\n",
       "</div>"
      ],
      "text/plain": [
       "                                              from  \\\n",
       "0       0x1439b4d5a72343b68f12398c649df99d76b2af53   \n",
       "1       0x9ed3db7a8ec964ef0813edb7bf3ff514a25fae70   \n",
       "2       0xbdc4a5c0ff7275736cad102c7408555fb5d6c495   \n",
       "3       0x5e11534344b8c1fda947b37dc57b8734232a6b1c   \n",
       "4       0x58e14b71ef1a30f186000c5fb4e8ab993336f109   \n",
       "...                                            ...   \n",
       "227322  0x8cb7f1a4f44593ec356b11c70c0a977c647c763c   \n",
       "227323  0x8cb7f1a4f44593ec356b11c70c0a977c647c763c   \n",
       "227324  0x8cb7f1a4f44593ec356b11c70c0a977c647c763c   \n",
       "227325  0x8cb7f1a4f44593ec356b11c70c0a977c647c763c   \n",
       "227326  0x8cb7f1a4f44593ec356b11c70c0a977c647c763c   \n",
       "\n",
       "                                                to       timestamp  \\\n",
       "0       0x8c0a11eb047c1097c821c159b8e0c2c5f37f81bf  20220730032737   \n",
       "1       0xa5b36a3732937375bc579fa38159347da9938441  20220730021034   \n",
       "2       0x564a8e13d7dd23d5525160d204165bdbcb69b4db  20220729052058   \n",
       "3       0xd0c877b474cd51959931a7f70d7a6c60f50cdae7  20220729042239   \n",
       "4       0x25f20e56dc90c79bb80896b613dbe9dc6b96ca04  20220729023044   \n",
       "...                                            ...             ...   \n",
       "227322  0xe5798a530bb7105e148d38ac884f05c28ed8e804  20220521042106   \n",
       "227323  0x38e3d4a5bf7dea9280e389864d4bf9834cc2f266  20220521034547   \n",
       "227324  0x3cd378c9b1cb5f147ebf1b2c2564118946ae4ba1  20220520212804   \n",
       "227325  0xbc6819c533db537ad8e169d8d67e3c8971c0417f  20220520204309   \n",
       "227326  0x04f443bf89dae24a35f523130cabff709fb1b22c  20220520203434   \n",
       "\n",
       "        transferedAmount   value  transactionFee  TxnsCnt  \n",
       "0                     43    0.00         121.205       42  \n",
       "1                    265    0.00         293.970      249  \n",
       "2                     43    0.00          52.096       43  \n",
       "3                      1  157.01           1.990        1  \n",
       "4                     11   16.49           7.230        2  \n",
       "...                  ...     ...             ...      ...  \n",
       "227322                 1   84.28           3.300        1  \n",
       "227323                 1   84.28           4.530        1  \n",
       "227324                 1   84.28           5.120        1  \n",
       "227325                 2  168.51          13.460        2  \n",
       "227326                 1   84.23           7.200        1  \n",
       "\n",
       "[227327 rows x 7 columns]"
      ]
     },
     "execution_count": 36,
     "metadata": {},
     "output_type": "execute_result"
    }
   ],
   "source": [
    "dfedges"
   ]
  },
  {
   "cell_type": "code",
   "execution_count": 37,
   "metadata": {},
   "outputs": [],
   "source": [
    "tgb_edges = dfedges[['timestamp','from','to','TxnsCnt']]"
   ]
  },
  {
   "cell_type": "code",
   "execution_count": 38,
   "metadata": {},
   "outputs": [
    {
     "data": {
      "text/html": [
       "<div>\n",
       "<style scoped>\n",
       "    .dataframe tbody tr th:only-of-type {\n",
       "        vertical-align: middle;\n",
       "    }\n",
       "\n",
       "    .dataframe tbody tr th {\n",
       "        vertical-align: top;\n",
       "    }\n",
       "\n",
       "    .dataframe thead th {\n",
       "        text-align: right;\n",
       "    }\n",
       "</style>\n",
       "<table border=\"1\" class=\"dataframe\">\n",
       "  <thead>\n",
       "    <tr style=\"text-align: right;\">\n",
       "      <th></th>\n",
       "      <th>timestamp</th>\n",
       "      <th>from</th>\n",
       "      <th>to</th>\n",
       "      <th>TxnsCnt</th>\n",
       "    </tr>\n",
       "  </thead>\n",
       "  <tbody>\n",
       "    <tr>\n",
       "      <th>0</th>\n",
       "      <td>20220730032737</td>\n",
       "      <td>0x1439b4d5a72343b68f12398c649df99d76b2af53</td>\n",
       "      <td>0x8c0a11eb047c1097c821c159b8e0c2c5f37f81bf</td>\n",
       "      <td>42</td>\n",
       "    </tr>\n",
       "    <tr>\n",
       "      <th>1</th>\n",
       "      <td>20220730021034</td>\n",
       "      <td>0x9ed3db7a8ec964ef0813edb7bf3ff514a25fae70</td>\n",
       "      <td>0xa5b36a3732937375bc579fa38159347da9938441</td>\n",
       "      <td>249</td>\n",
       "    </tr>\n",
       "    <tr>\n",
       "      <th>2</th>\n",
       "      <td>20220729052058</td>\n",
       "      <td>0xbdc4a5c0ff7275736cad102c7408555fb5d6c495</td>\n",
       "      <td>0x564a8e13d7dd23d5525160d204165bdbcb69b4db</td>\n",
       "      <td>43</td>\n",
       "    </tr>\n",
       "    <tr>\n",
       "      <th>3</th>\n",
       "      <td>20220729042239</td>\n",
       "      <td>0x5e11534344b8c1fda947b37dc57b8734232a6b1c</td>\n",
       "      <td>0xd0c877b474cd51959931a7f70d7a6c60f50cdae7</td>\n",
       "      <td>1</td>\n",
       "    </tr>\n",
       "    <tr>\n",
       "      <th>4</th>\n",
       "      <td>20220729023044</td>\n",
       "      <td>0x58e14b71ef1a30f186000c5fb4e8ab993336f109</td>\n",
       "      <td>0x25f20e56dc90c79bb80896b613dbe9dc6b96ca04</td>\n",
       "      <td>2</td>\n",
       "    </tr>\n",
       "    <tr>\n",
       "      <th>...</th>\n",
       "      <td>...</td>\n",
       "      <td>...</td>\n",
       "      <td>...</td>\n",
       "      <td>...</td>\n",
       "    </tr>\n",
       "    <tr>\n",
       "      <th>227322</th>\n",
       "      <td>20220521042106</td>\n",
       "      <td>0x8cb7f1a4f44593ec356b11c70c0a977c647c763c</td>\n",
       "      <td>0xe5798a530bb7105e148d38ac884f05c28ed8e804</td>\n",
       "      <td>1</td>\n",
       "    </tr>\n",
       "    <tr>\n",
       "      <th>227323</th>\n",
       "      <td>20220521034547</td>\n",
       "      <td>0x8cb7f1a4f44593ec356b11c70c0a977c647c763c</td>\n",
       "      <td>0x38e3d4a5bf7dea9280e389864d4bf9834cc2f266</td>\n",
       "      <td>1</td>\n",
       "    </tr>\n",
       "    <tr>\n",
       "      <th>227324</th>\n",
       "      <td>20220520212804</td>\n",
       "      <td>0x8cb7f1a4f44593ec356b11c70c0a977c647c763c</td>\n",
       "      <td>0x3cd378c9b1cb5f147ebf1b2c2564118946ae4ba1</td>\n",
       "      <td>1</td>\n",
       "    </tr>\n",
       "    <tr>\n",
       "      <th>227325</th>\n",
       "      <td>20220520204309</td>\n",
       "      <td>0x8cb7f1a4f44593ec356b11c70c0a977c647c763c</td>\n",
       "      <td>0xbc6819c533db537ad8e169d8d67e3c8971c0417f</td>\n",
       "      <td>2</td>\n",
       "    </tr>\n",
       "    <tr>\n",
       "      <th>227326</th>\n",
       "      <td>20220520203434</td>\n",
       "      <td>0x8cb7f1a4f44593ec356b11c70c0a977c647c763c</td>\n",
       "      <td>0x04f443bf89dae24a35f523130cabff709fb1b22c</td>\n",
       "      <td>1</td>\n",
       "    </tr>\n",
       "  </tbody>\n",
       "</table>\n",
       "<p>227327 rows × 4 columns</p>\n",
       "</div>"
      ],
      "text/plain": [
       "             timestamp                                        from  \\\n",
       "0       20220730032737  0x1439b4d5a72343b68f12398c649df99d76b2af53   \n",
       "1       20220730021034  0x9ed3db7a8ec964ef0813edb7bf3ff514a25fae70   \n",
       "2       20220729052058  0xbdc4a5c0ff7275736cad102c7408555fb5d6c495   \n",
       "3       20220729042239  0x5e11534344b8c1fda947b37dc57b8734232a6b1c   \n",
       "4       20220729023044  0x58e14b71ef1a30f186000c5fb4e8ab993336f109   \n",
       "...                ...                                         ...   \n",
       "227322  20220521042106  0x8cb7f1a4f44593ec356b11c70c0a977c647c763c   \n",
       "227323  20220521034547  0x8cb7f1a4f44593ec356b11c70c0a977c647c763c   \n",
       "227324  20220520212804  0x8cb7f1a4f44593ec356b11c70c0a977c647c763c   \n",
       "227325  20220520204309  0x8cb7f1a4f44593ec356b11c70c0a977c647c763c   \n",
       "227326  20220520203434  0x8cb7f1a4f44593ec356b11c70c0a977c647c763c   \n",
       "\n",
       "                                                to  TxnsCnt  \n",
       "0       0x8c0a11eb047c1097c821c159b8e0c2c5f37f81bf       42  \n",
       "1       0xa5b36a3732937375bc579fa38159347da9938441      249  \n",
       "2       0x564a8e13d7dd23d5525160d204165bdbcb69b4db       43  \n",
       "3       0xd0c877b474cd51959931a7f70d7a6c60f50cdae7        1  \n",
       "4       0x25f20e56dc90c79bb80896b613dbe9dc6b96ca04        2  \n",
       "...                                            ...      ...  \n",
       "227322  0xe5798a530bb7105e148d38ac884f05c28ed8e804        1  \n",
       "227323  0x38e3d4a5bf7dea9280e389864d4bf9834cc2f266        1  \n",
       "227324  0x3cd378c9b1cb5f147ebf1b2c2564118946ae4ba1        1  \n",
       "227325  0xbc6819c533db537ad8e169d8d67e3c8971c0417f        2  \n",
       "227326  0x04f443bf89dae24a35f523130cabff709fb1b22c        1  \n",
       "\n",
       "[227327 rows x 4 columns]"
      ]
     },
     "execution_count": 38,
     "metadata": {},
     "output_type": "execute_result"
    }
   ],
   "source": [
    "tgb_edges"
   ]
  },
  {
   "cell_type": "code",
   "execution_count": 39,
   "metadata": {},
   "outputs": [],
   "source": [
    "tgb_edges.to_csv(prefix+'/datasets/tgb_graph/tgbl_tinynftgraph/tgbl-tinynftgraph_edgelist.csv',index=False)"
   ]
  },
  {
   "cell_type": "code",
   "execution_count": null,
   "metadata": {},
   "outputs": [],
   "source": []
  }
 ],
 "metadata": {
  "kernelspec": {
   "display_name": "Python 3",
   "language": "python",
   "name": "python3"
  },
  "language_info": {
   "codemirror_mode": {
    "name": "ipython",
    "version": 3
   },
   "file_extension": ".py",
   "mimetype": "text/x-python",
   "name": "python",
   "nbconvert_exporter": "python",
   "pygments_lexer": "ipython3",
   "version": "3.8.0"
  }
 },
 "nbformat": 4,
 "nbformat_minor": 0
}
