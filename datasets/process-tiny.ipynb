{
 "cells": [
  {
   "cell_type": "code",
   "execution_count": 38,
   "metadata": {
    "collapsed": false,
    "pycharm": {
     "name": "#%%\n"
    }
   },
   "outputs": [],
   "source": [
    "import dgl\n",
    "import torch\n",
    "import numpy as np\n",
    "import os\n",
    "import random\n",
    "import pandas as pd\n",
    "import bidict\n",
    "\n",
    "def set_seed(seed=3407):\n",
    "    os.environ['PYTHONHASHSEED'] = str(seed)\n",
    "    random.seed(seed)\n",
    "    np.random.seed(seed)\n",
    "    torch.manual_seed(seed)\n",
    "    if torch.cuda.is_available():\n",
    "        torch.cuda.manual_seed(seed)\n",
    "        torch.cuda.manual_seed_all(seed)\n",
    "        torch.backends.cudnn.deterministic = True"
   ]
  },
  {
   "cell_type": "code",
   "execution_count": 39,
   "metadata": {},
   "outputs": [],
   "source": [
    "prefix = '/data/sx/NFTGraph'"
   ]
  },
  {
   "cell_type": "code",
   "execution_count": 40,
   "metadata": {},
   "outputs": [],
   "source": [
    "dfnodes = pd.read_csv(prefix+'/raw_data/tinynodes.csv')"
   ]
  },
  {
   "cell_type": "code",
   "execution_count": 41,
   "metadata": {},
   "outputs": [
    {
     "data": {
      "text/html": [
       "<div>\n",
       "<style scoped>\n",
       "    .dataframe tbody tr th:only-of-type {\n",
       "        vertical-align: middle;\n",
       "    }\n",
       "\n",
       "    .dataframe tbody tr th {\n",
       "        vertical-align: top;\n",
       "    }\n",
       "\n",
       "    .dataframe thead th {\n",
       "        text-align: right;\n",
       "    }\n",
       "</style>\n",
       "<table border=\"1\" class=\"dataframe\">\n",
       "  <thead>\n",
       "    <tr style=\"text-align: right;\">\n",
       "      <th></th>\n",
       "      <th>addr</th>\n",
       "      <th>OutCnt</th>\n",
       "      <th>OutAmount</th>\n",
       "      <th>OutValue</th>\n",
       "      <th>OutTransFee</th>\n",
       "      <th>InCnt</th>\n",
       "      <th>InAmount</th>\n",
       "      <th>InValue</th>\n",
       "      <th>InTransFee</th>\n",
       "      <th>label</th>\n",
       "    </tr>\n",
       "  </thead>\n",
       "  <tbody>\n",
       "    <tr>\n",
       "      <th>0</th>\n",
       "      <td>0x0000000000000000000000000000000000000000</td>\n",
       "      <td>2650186.0</td>\n",
       "      <td>7217724.0</td>\n",
       "      <td>7.123250e+08</td>\n",
       "      <td>2.160977e+07</td>\n",
       "      <td>595830.0</td>\n",
       "      <td>2410795.0</td>\n",
       "      <td>2.029615e+07</td>\n",
       "      <td>4.879685e+06</td>\n",
       "      <td>0</td>\n",
       "    </tr>\n",
       "    <tr>\n",
       "      <th>1</th>\n",
       "      <td>0x4b3406a41399c7fd2ba65cbc93697ad9e7ea61e5</td>\n",
       "      <td>20407.0</td>\n",
       "      <td>22644.0</td>\n",
       "      <td>0.000000e+00</td>\n",
       "      <td>1.306836e+05</td>\n",
       "      <td>20407.0</td>\n",
       "      <td>22644.0</td>\n",
       "      <td>0.000000e+00</td>\n",
       "      <td>1.306836e+05</td>\n",
       "      <td>0</td>\n",
       "    </tr>\n",
       "    <tr>\n",
       "      <th>2</th>\n",
       "      <td>0x000000000000000000000000000000000000dead</td>\n",
       "      <td>6.0</td>\n",
       "      <td>12.0</td>\n",
       "      <td>0.000000e+00</td>\n",
       "      <td>2.842000e+01</td>\n",
       "      <td>39553.0</td>\n",
       "      <td>47223.0</td>\n",
       "      <td>1.036783e+05</td>\n",
       "      <td>1.821448e+05</td>\n",
       "      <td>0</td>\n",
       "    </tr>\n",
       "    <tr>\n",
       "      <th>3</th>\n",
       "      <td>0xeca9d81a4dc7119a40481cff4e7e24dd0aaf56bd</td>\n",
       "      <td>1090.0</td>\n",
       "      <td>1090.0</td>\n",
       "      <td>0.000000e+00</td>\n",
       "      <td>1.274590e+03</td>\n",
       "      <td>35295.0</td>\n",
       "      <td>36508.0</td>\n",
       "      <td>0.000000e+00</td>\n",
       "      <td>2.018945e+04</td>\n",
       "      <td>0</td>\n",
       "    </tr>\n",
       "    <tr>\n",
       "      <th>4</th>\n",
       "      <td>0x381e840f4ebe33d0153e9a312105554594a98c42</td>\n",
       "      <td>34524.0</td>\n",
       "      <td>36592.0</td>\n",
       "      <td>0.000000e+00</td>\n",
       "      <td>2.083176e+05</td>\n",
       "      <td>442.0</td>\n",
       "      <td>2494.0</td>\n",
       "      <td>0.000000e+00</td>\n",
       "      <td>2.374280e+03</td>\n",
       "      <td>0</td>\n",
       "    </tr>\n",
       "    <tr>\n",
       "      <th>...</th>\n",
       "      <td>...</td>\n",
       "      <td>...</td>\n",
       "      <td>...</td>\n",
       "      <td>...</td>\n",
       "      <td>...</td>\n",
       "      <td>...</td>\n",
       "      <td>...</td>\n",
       "      <td>...</td>\n",
       "      <td>...</td>\n",
       "      <td>...</td>\n",
       "    </tr>\n",
       "    <tr>\n",
       "      <th>19995</th>\n",
       "      <td>0x5a1d741b79d30c33021cf9d07ab59a37a10b4d1f</td>\n",
       "      <td>11.0</td>\n",
       "      <td>17.0</td>\n",
       "      <td>2.264330e+03</td>\n",
       "      <td>2.911300e+02</td>\n",
       "      <td>52.0</td>\n",
       "      <td>3320.0</td>\n",
       "      <td>2.773610e+03</td>\n",
       "      <td>2.299100e+02</td>\n",
       "      <td>0</td>\n",
       "    </tr>\n",
       "    <tr>\n",
       "      <th>19996</th>\n",
       "      <td>0x479db4dac1f196bceb97d52e99c3f4959d93b18b</td>\n",
       "      <td>19.0</td>\n",
       "      <td>23.0</td>\n",
       "      <td>1.110640e+03</td>\n",
       "      <td>1.290900e+02</td>\n",
       "      <td>44.0</td>\n",
       "      <td>44.0</td>\n",
       "      <td>0.000000e+00</td>\n",
       "      <td>1.353200e+02</td>\n",
       "      <td>0</td>\n",
       "    </tr>\n",
       "    <tr>\n",
       "      <th>19997</th>\n",
       "      <td>0x6fb9a82b00ccbe0e0cf06984d902cbeb946a44ca</td>\n",
       "      <td>17.0</td>\n",
       "      <td>17.0</td>\n",
       "      <td>4.199727e+03</td>\n",
       "      <td>2.130217e+02</td>\n",
       "      <td>46.0</td>\n",
       "      <td>46.0</td>\n",
       "      <td>3.892785e+03</td>\n",
       "      <td>3.892402e+02</td>\n",
       "      <td>0</td>\n",
       "    </tr>\n",
       "    <tr>\n",
       "      <th>19998</th>\n",
       "      <td>0xa126b4ad2328055ab7c01ce87a29a17b9f97e85a</td>\n",
       "      <td>15.0</td>\n",
       "      <td>116.0</td>\n",
       "      <td>1.841844e+04</td>\n",
       "      <td>2.348217e+02</td>\n",
       "      <td>48.0</td>\n",
       "      <td>57.0</td>\n",
       "      <td>9.970242e+03</td>\n",
       "      <td>2.797561e+02</td>\n",
       "      <td>0</td>\n",
       "    </tr>\n",
       "    <tr>\n",
       "      <th>19999</th>\n",
       "      <td>0xc7d7ffb6484ac68efdbca7a477a63ce307e8fdcf</td>\n",
       "      <td>4.0</td>\n",
       "      <td>4.0</td>\n",
       "      <td>1.987600e+02</td>\n",
       "      <td>2.526000e+01</td>\n",
       "      <td>59.0</td>\n",
       "      <td>60.0</td>\n",
       "      <td>1.217019e+04</td>\n",
       "      <td>5.536411e+02</td>\n",
       "      <td>0</td>\n",
       "    </tr>\n",
       "  </tbody>\n",
       "</table>\n",
       "<p>20000 rows × 10 columns</p>\n",
       "</div>"
      ],
      "text/plain": [
       "                                             addr     OutCnt  OutAmount  \\\n",
       "0      0x0000000000000000000000000000000000000000  2650186.0  7217724.0   \n",
       "1      0x4b3406a41399c7fd2ba65cbc93697ad9e7ea61e5    20407.0    22644.0   \n",
       "2      0x000000000000000000000000000000000000dead        6.0       12.0   \n",
       "3      0xeca9d81a4dc7119a40481cff4e7e24dd0aaf56bd     1090.0     1090.0   \n",
       "4      0x381e840f4ebe33d0153e9a312105554594a98c42    34524.0    36592.0   \n",
       "...                                           ...        ...        ...   \n",
       "19995  0x5a1d741b79d30c33021cf9d07ab59a37a10b4d1f       11.0       17.0   \n",
       "19996  0x479db4dac1f196bceb97d52e99c3f4959d93b18b       19.0       23.0   \n",
       "19997  0x6fb9a82b00ccbe0e0cf06984d902cbeb946a44ca       17.0       17.0   \n",
       "19998  0xa126b4ad2328055ab7c01ce87a29a17b9f97e85a       15.0      116.0   \n",
       "19999  0xc7d7ffb6484ac68efdbca7a477a63ce307e8fdcf        4.0        4.0   \n",
       "\n",
       "           OutValue   OutTransFee     InCnt   InAmount       InValue  \\\n",
       "0      7.123250e+08  2.160977e+07  595830.0  2410795.0  2.029615e+07   \n",
       "1      0.000000e+00  1.306836e+05   20407.0    22644.0  0.000000e+00   \n",
       "2      0.000000e+00  2.842000e+01   39553.0    47223.0  1.036783e+05   \n",
       "3      0.000000e+00  1.274590e+03   35295.0    36508.0  0.000000e+00   \n",
       "4      0.000000e+00  2.083176e+05     442.0     2494.0  0.000000e+00   \n",
       "...             ...           ...       ...        ...           ...   \n",
       "19995  2.264330e+03  2.911300e+02      52.0     3320.0  2.773610e+03   \n",
       "19996  1.110640e+03  1.290900e+02      44.0       44.0  0.000000e+00   \n",
       "19997  4.199727e+03  2.130217e+02      46.0       46.0  3.892785e+03   \n",
       "19998  1.841844e+04  2.348217e+02      48.0       57.0  9.970242e+03   \n",
       "19999  1.987600e+02  2.526000e+01      59.0       60.0  1.217019e+04   \n",
       "\n",
       "         InTransFee  label  \n",
       "0      4.879685e+06      0  \n",
       "1      1.306836e+05      0  \n",
       "2      1.821448e+05      0  \n",
       "3      2.018945e+04      0  \n",
       "4      2.374280e+03      0  \n",
       "...             ...    ...  \n",
       "19995  2.299100e+02      0  \n",
       "19996  1.353200e+02      0  \n",
       "19997  3.892402e+02      0  \n",
       "19998  2.797561e+02      0  \n",
       "19999  5.536411e+02      0  \n",
       "\n",
       "[20000 rows x 10 columns]"
      ]
     },
     "execution_count": 41,
     "metadata": {},
     "output_type": "execute_result"
    }
   ],
   "source": [
    "dfnodes"
   ]
  },
  {
   "cell_type": "code",
   "execution_count": 42,
   "metadata": {},
   "outputs": [],
   "source": [
    "node_dict = bidict.bidict()"
   ]
  },
  {
   "cell_type": "code",
   "execution_count": 43,
   "metadata": {},
   "outputs": [
    {
     "data": {
      "text/plain": [
       "array([['0x0000000000000000000000000000000000000000', 0],\n",
       "       ['0x4b3406a41399c7fd2ba65cbc93697ad9e7ea61e5', 0],\n",
       "       ['0x000000000000000000000000000000000000dead', 0],\n",
       "       ...,\n",
       "       ['0x6fb9a82b00ccbe0e0cf06984d902cbeb946a44ca', 0],\n",
       "       ['0xa126b4ad2328055ab7c01ce87a29a17b9f97e85a', 0],\n",
       "       ['0xc7d7ffb6484ac68efdbca7a477a63ce307e8fdcf', 0]], dtype=object)"
      ]
     },
     "execution_count": 43,
     "metadata": {},
     "output_type": "execute_result"
    }
   ],
   "source": [
    "labels = dfnodes[['addr','label']].to_numpy()\n",
    "labels"
   ]
  },
  {
   "cell_type": "code",
   "execution_count": 44,
   "metadata": {},
   "outputs": [],
   "source": [
    "for i in range(labels.shape[0]):\n",
    "    node_dict[i] = labels[i][0]"
   ]
  },
  {
   "cell_type": "code",
   "execution_count": 45,
   "metadata": {},
   "outputs": [],
   "source": [
    "node_features = dfnodes[['addr','OutCnt','OutAmount','OutValue','OutTransFee','InCnt','InAmount','InValue','InTransFee']].to_numpy()"
   ]
  },
  {
   "cell_type": "code",
   "execution_count": 46,
   "metadata": {},
   "outputs": [],
   "source": [
    "features = node_features[:,1:]"
   ]
  },
  {
   "cell_type": "code",
   "execution_count": 47,
   "metadata": {},
   "outputs": [],
   "source": [
    "train_ratio, val_ratio = 0.4, 0.2\n",
    "\n",
    "nodes_anomaly = []\n",
    "nodes_non_anomaly = []\n",
    "for i in range(len(labels)):\n",
    "    if labels[i][1]==1:\n",
    "        nodes_anomaly.append(i)\n",
    "    else:\n",
    "        nodes_non_anomaly.append(i)\n",
    "\n",
    "n = labels.shape[0]\n",
    "train_mask = torch.zeros(n).bool()\n",
    "val_mask = torch.zeros(n).bool()\n",
    "test_mask = torch.zeros(n).bool()\n",
    "\n",
    "import random\n",
    "random.shuffle(nodes_anomaly)\n",
    "train_ones = nodes_anomaly[:int(len(nodes_anomaly)*train_ratio)]\n",
    "val_ones = nodes_anomaly[int(len(nodes_anomaly)*train_ratio):int(len(nodes_anomaly)*(train_ratio+val_ratio))]\n",
    "test_ones = nodes_anomaly[int(len(nodes_anomaly)*(train_ratio+val_ratio)):]\n",
    "\n",
    "random.shuffle(nodes_non_anomaly)\n",
    "train_zeros = nodes_non_anomaly[:int(len(nodes_non_anomaly)*train_ratio)]\n",
    "val_zeros = nodes_non_anomaly[int(len(nodes_non_anomaly)*train_ratio):int(len(nodes_non_anomaly)*(train_ratio+val_ratio))]\n",
    "test_zeros = nodes_non_anomaly[int(len(nodes_non_anomaly)*(train_ratio+val_ratio)):]\n",
    "\n",
    "for i in train_ones+train_zeros:\n",
    "    train_mask[i] = True\n",
    "\n",
    "for i in val_ones+val_zeros:\n",
    "    val_mask[i] = True\n",
    "    \n",
    "for i in test_ones+test_zeros:\n",
    "    test_mask[i] = True"
   ]
  },
  {
   "cell_type": "code",
   "execution_count": 48,
   "metadata": {},
   "outputs": [],
   "source": [
    "dfedges = pd.read_csv(prefix+'/raw_data/tinyedges.csv')"
   ]
  },
  {
   "cell_type": "code",
   "execution_count": 49,
   "metadata": {},
   "outputs": [
    {
     "data": {
      "text/html": [
       "<div>\n",
       "<style scoped>\n",
       "    .dataframe tbody tr th:only-of-type {\n",
       "        vertical-align: middle;\n",
       "    }\n",
       "\n",
       "    .dataframe tbody tr th {\n",
       "        vertical-align: top;\n",
       "    }\n",
       "\n",
       "    .dataframe thead th {\n",
       "        text-align: right;\n",
       "    }\n",
       "</style>\n",
       "<table border=\"1\" class=\"dataframe\">\n",
       "  <thead>\n",
       "    <tr style=\"text-align: right;\">\n",
       "      <th></th>\n",
       "      <th>from</th>\n",
       "      <th>to</th>\n",
       "      <th>timestamp</th>\n",
       "      <th>transferedAmount</th>\n",
       "      <th>value</th>\n",
       "      <th>transactionFee</th>\n",
       "      <th>TxnsCnt</th>\n",
       "    </tr>\n",
       "  </thead>\n",
       "  <tbody>\n",
       "    <tr>\n",
       "      <th>0</th>\n",
       "      <td>0x1439b4d5a72343b68f12398c649df99d76b2af53</td>\n",
       "      <td>0x8c0a11eb047c1097c821c159b8e0c2c5f37f81bf</td>\n",
       "      <td>20220730032737</td>\n",
       "      <td>43</td>\n",
       "      <td>0.00</td>\n",
       "      <td>121.205</td>\n",
       "      <td>42</td>\n",
       "    </tr>\n",
       "    <tr>\n",
       "      <th>1</th>\n",
       "      <td>0x9ed3db7a8ec964ef0813edb7bf3ff514a25fae70</td>\n",
       "      <td>0xa5b36a3732937375bc579fa38159347da9938441</td>\n",
       "      <td>20220730021034</td>\n",
       "      <td>265</td>\n",
       "      <td>0.00</td>\n",
       "      <td>293.970</td>\n",
       "      <td>249</td>\n",
       "    </tr>\n",
       "    <tr>\n",
       "      <th>2</th>\n",
       "      <td>0xbdc4a5c0ff7275736cad102c7408555fb5d6c495</td>\n",
       "      <td>0x564a8e13d7dd23d5525160d204165bdbcb69b4db</td>\n",
       "      <td>20220729052058</td>\n",
       "      <td>43</td>\n",
       "      <td>0.00</td>\n",
       "      <td>52.096</td>\n",
       "      <td>43</td>\n",
       "    </tr>\n",
       "    <tr>\n",
       "      <th>3</th>\n",
       "      <td>0x5e11534344b8c1fda947b37dc57b8734232a6b1c</td>\n",
       "      <td>0xd0c877b474cd51959931a7f70d7a6c60f50cdae7</td>\n",
       "      <td>20220729042239</td>\n",
       "      <td>1</td>\n",
       "      <td>157.01</td>\n",
       "      <td>1.990</td>\n",
       "      <td>1</td>\n",
       "    </tr>\n",
       "    <tr>\n",
       "      <th>4</th>\n",
       "      <td>0x58e14b71ef1a30f186000c5fb4e8ab993336f109</td>\n",
       "      <td>0x25f20e56dc90c79bb80896b613dbe9dc6b96ca04</td>\n",
       "      <td>20220729023044</td>\n",
       "      <td>11</td>\n",
       "      <td>16.49</td>\n",
       "      <td>7.230</td>\n",
       "      <td>2</td>\n",
       "    </tr>\n",
       "    <tr>\n",
       "      <th>...</th>\n",
       "      <td>...</td>\n",
       "      <td>...</td>\n",
       "      <td>...</td>\n",
       "      <td>...</td>\n",
       "      <td>...</td>\n",
       "      <td>...</td>\n",
       "      <td>...</td>\n",
       "    </tr>\n",
       "    <tr>\n",
       "      <th>227322</th>\n",
       "      <td>0x8cb7f1a4f44593ec356b11c70c0a977c647c763c</td>\n",
       "      <td>0xe5798a530bb7105e148d38ac884f05c28ed8e804</td>\n",
       "      <td>20220521042106</td>\n",
       "      <td>1</td>\n",
       "      <td>84.28</td>\n",
       "      <td>3.300</td>\n",
       "      <td>1</td>\n",
       "    </tr>\n",
       "    <tr>\n",
       "      <th>227323</th>\n",
       "      <td>0x8cb7f1a4f44593ec356b11c70c0a977c647c763c</td>\n",
       "      <td>0x38e3d4a5bf7dea9280e389864d4bf9834cc2f266</td>\n",
       "      <td>20220521034547</td>\n",
       "      <td>1</td>\n",
       "      <td>84.28</td>\n",
       "      <td>4.530</td>\n",
       "      <td>1</td>\n",
       "    </tr>\n",
       "    <tr>\n",
       "      <th>227324</th>\n",
       "      <td>0x8cb7f1a4f44593ec356b11c70c0a977c647c763c</td>\n",
       "      <td>0x3cd378c9b1cb5f147ebf1b2c2564118946ae4ba1</td>\n",
       "      <td>20220520212804</td>\n",
       "      <td>1</td>\n",
       "      <td>84.28</td>\n",
       "      <td>5.120</td>\n",
       "      <td>1</td>\n",
       "    </tr>\n",
       "    <tr>\n",
       "      <th>227325</th>\n",
       "      <td>0x8cb7f1a4f44593ec356b11c70c0a977c647c763c</td>\n",
       "      <td>0xbc6819c533db537ad8e169d8d67e3c8971c0417f</td>\n",
       "      <td>20220520204309</td>\n",
       "      <td>2</td>\n",
       "      <td>168.51</td>\n",
       "      <td>13.460</td>\n",
       "      <td>2</td>\n",
       "    </tr>\n",
       "    <tr>\n",
       "      <th>227326</th>\n",
       "      <td>0x8cb7f1a4f44593ec356b11c70c0a977c647c763c</td>\n",
       "      <td>0x04f443bf89dae24a35f523130cabff709fb1b22c</td>\n",
       "      <td>20220520203434</td>\n",
       "      <td>1</td>\n",
       "      <td>84.23</td>\n",
       "      <td>7.200</td>\n",
       "      <td>1</td>\n",
       "    </tr>\n",
       "  </tbody>\n",
       "</table>\n",
       "<p>227327 rows × 7 columns</p>\n",
       "</div>"
      ],
      "text/plain": [
       "                                              from  \\\n",
       "0       0x1439b4d5a72343b68f12398c649df99d76b2af53   \n",
       "1       0x9ed3db7a8ec964ef0813edb7bf3ff514a25fae70   \n",
       "2       0xbdc4a5c0ff7275736cad102c7408555fb5d6c495   \n",
       "3       0x5e11534344b8c1fda947b37dc57b8734232a6b1c   \n",
       "4       0x58e14b71ef1a30f186000c5fb4e8ab993336f109   \n",
       "...                                            ...   \n",
       "227322  0x8cb7f1a4f44593ec356b11c70c0a977c647c763c   \n",
       "227323  0x8cb7f1a4f44593ec356b11c70c0a977c647c763c   \n",
       "227324  0x8cb7f1a4f44593ec356b11c70c0a977c647c763c   \n",
       "227325  0x8cb7f1a4f44593ec356b11c70c0a977c647c763c   \n",
       "227326  0x8cb7f1a4f44593ec356b11c70c0a977c647c763c   \n",
       "\n",
       "                                                to       timestamp  \\\n",
       "0       0x8c0a11eb047c1097c821c159b8e0c2c5f37f81bf  20220730032737   \n",
       "1       0xa5b36a3732937375bc579fa38159347da9938441  20220730021034   \n",
       "2       0x564a8e13d7dd23d5525160d204165bdbcb69b4db  20220729052058   \n",
       "3       0xd0c877b474cd51959931a7f70d7a6c60f50cdae7  20220729042239   \n",
       "4       0x25f20e56dc90c79bb80896b613dbe9dc6b96ca04  20220729023044   \n",
       "...                                            ...             ...   \n",
       "227322  0xe5798a530bb7105e148d38ac884f05c28ed8e804  20220521042106   \n",
       "227323  0x38e3d4a5bf7dea9280e389864d4bf9834cc2f266  20220521034547   \n",
       "227324  0x3cd378c9b1cb5f147ebf1b2c2564118946ae4ba1  20220520212804   \n",
       "227325  0xbc6819c533db537ad8e169d8d67e3c8971c0417f  20220520204309   \n",
       "227326  0x04f443bf89dae24a35f523130cabff709fb1b22c  20220520203434   \n",
       "\n",
       "        transferedAmount   value  transactionFee  TxnsCnt  \n",
       "0                     43    0.00         121.205       42  \n",
       "1                    265    0.00         293.970      249  \n",
       "2                     43    0.00          52.096       43  \n",
       "3                      1  157.01           1.990        1  \n",
       "4                     11   16.49           7.230        2  \n",
       "...                  ...     ...             ...      ...  \n",
       "227322                 1   84.28           3.300        1  \n",
       "227323                 1   84.28           4.530        1  \n",
       "227324                 1   84.28           5.120        1  \n",
       "227325                 2  168.51          13.460        2  \n",
       "227326                 1   84.23           7.200        1  \n",
       "\n",
       "[227327 rows x 7 columns]"
      ]
     },
     "execution_count": 49,
     "metadata": {},
     "output_type": "execute_result"
    }
   ],
   "source": [
    "dfedges"
   ]
  },
  {
   "cell_type": "code",
   "execution_count": 50,
   "metadata": {},
   "outputs": [
    {
     "data": {
      "text/plain": [
       "array([['0x1439b4d5a72343b68f12398c649df99d76b2af53',\n",
       "        '0x8c0a11eb047c1097c821c159b8e0c2c5f37f81bf'],\n",
       "       ['0x9ed3db7a8ec964ef0813edb7bf3ff514a25fae70',\n",
       "        '0xa5b36a3732937375bc579fa38159347da9938441'],\n",
       "       ['0xbdc4a5c0ff7275736cad102c7408555fb5d6c495',\n",
       "        '0x564a8e13d7dd23d5525160d204165bdbcb69b4db'],\n",
       "       ...,\n",
       "       ['0x8cb7f1a4f44593ec356b11c70c0a977c647c763c',\n",
       "        '0x3cd378c9b1cb5f147ebf1b2c2564118946ae4ba1'],\n",
       "       ['0x8cb7f1a4f44593ec356b11c70c0a977c647c763c',\n",
       "        '0xbc6819c533db537ad8e169d8d67e3c8971c0417f'],\n",
       "       ['0x8cb7f1a4f44593ec356b11c70c0a977c647c763c',\n",
       "        '0x04f443bf89dae24a35f523130cabff709fb1b22c']], dtype=object)"
      ]
     },
     "execution_count": 50,
     "metadata": {},
     "output_type": "execute_result"
    }
   ],
   "source": [
    "edges = dfedges[['from','to']].to_numpy()\n",
    "edges"
   ]
  },
  {
   "cell_type": "code",
   "execution_count": 51,
   "metadata": {},
   "outputs": [],
   "source": [
    "new_edges = np.zeros_like(edges)"
   ]
  },
  {
   "cell_type": "code",
   "execution_count": 52,
   "metadata": {},
   "outputs": [],
   "source": [
    "for i in range(edges.shape[0]):\n",
    "    new_edges[i][0] = node_dict.inv[edges[i][0]]\n",
    "    new_edges[i][1] = node_dict.inv[edges[i][1]]"
   ]
  },
  {
   "cell_type": "code",
   "execution_count": 53,
   "metadata": {},
   "outputs": [],
   "source": [
    "graph = dgl.graph((new_edges[:,0].astype(int), new_edges[:,1].astype(int)))\n",
    "graph.ndata['train_mask'] = train_mask\n",
    "graph.ndata['val_mask'] = val_mask\n",
    "graph.ndata['test_mask'] = test_mask\n",
    "graph.ndata['label'] = torch.tensor(labels[:,1].astype(int))\n",
    "graph.ndata['feature'] = torch.tensor(features.astype(float))"
   ]
  },
  {
   "cell_type": "code",
   "execution_count": 54,
   "metadata": {},
   "outputs": [],
   "source": [
    "graph.edata['timestamp'] = torch.tensor(dfedges['timestamp'].astype(int))"
   ]
  },
  {
   "cell_type": "code",
   "execution_count": 55,
   "metadata": {},
   "outputs": [],
   "source": [
    "efeatures = dfedges[['TxnsCnt','transferedAmount','value','transactionFee']].to_numpy()"
   ]
  },
  {
   "cell_type": "code",
   "execution_count": 56,
   "metadata": {},
   "outputs": [],
   "source": [
    "graph.edata['feature'] = torch.tensor(efeatures)"
   ]
  },
  {
   "cell_type": "code",
   "execution_count": 57,
   "metadata": {},
   "outputs": [
    {
     "data": {
      "text/plain": [
       "Graph(num_nodes=20000, num_edges=227327,\n",
       "      ndata_schemes={'train_mask': Scheme(shape=(), dtype=torch.bool), 'val_mask': Scheme(shape=(), dtype=torch.bool), 'test_mask': Scheme(shape=(), dtype=torch.bool), 'label': Scheme(shape=(), dtype=torch.int64), 'feature': Scheme(shape=(8,), dtype=torch.float64)}\n",
       "      edata_schemes={'timestamp': Scheme(shape=(), dtype=torch.int64), 'feature': Scheme(shape=(4,), dtype=torch.float64)})"
      ]
     },
     "execution_count": 57,
     "metadata": {},
     "output_type": "execute_result"
    }
   ],
   "source": [
    "graph"
   ]
  },
  {
   "cell_type": "code",
   "execution_count": 58,
   "metadata": {},
   "outputs": [],
   "source": [
    "dgl.save_graphs(prefix+'/datasets/dgl_graph/tinynftgraph', [graph])"
   ]
  },
  {
   "cell_type": "code",
   "execution_count": 59,
   "metadata": {},
   "outputs": [],
   "source": [
    "import torch\n",
    "from torch_geometric.data import Data\n",
    "\n",
    "c = torch.stack([graph.edges()[0], graph.edges()[1]], dim=1).t().contiguous()\n",
    "\n",
    "data = Data(x=graph.ndata['feature'],edge_index=c,y=graph.ndata['label'],train_mask=graph.ndata['train_mask'],\\\n",
    "            val_mask=graph.ndata['val_mask'],test_mask=graph.ndata['test_mask'],\\\n",
    "            edge_attr=graph.edata['feature'],etime=graph.edata['timestamp'])"
   ]
  },
  {
   "cell_type": "code",
   "execution_count": 60,
   "metadata": {},
   "outputs": [
    {
     "data": {
      "text/plain": [
       "Data(x=[20000, 8], edge_index=[2, 227327], edge_attr=[227327, 4], y=[20000], train_mask=[20000], val_mask=[20000], test_mask=[20000], etime=[227327])"
      ]
     },
     "execution_count": 60,
     "metadata": {},
     "output_type": "execute_result"
    }
   ],
   "source": [
    "data"
   ]
  },
  {
   "cell_type": "code",
   "execution_count": 61,
   "metadata": {},
   "outputs": [],
   "source": [
    "torch.save(data,prefix+'/datasets/pyg_graph/tinynftgraph')"
   ]
  },
  {
   "cell_type": "code",
   "execution_count": 62,
   "metadata": {},
   "outputs": [],
   "source": [
    "from ogb.io import DatasetSaver\n",
    "from ogb.nodeproppred import NodePropPredDataset"
   ]
  },
  {
   "cell_type": "code",
   "execution_count": 63,
   "metadata": {},
   "outputs": [],
   "source": [
    "dataset_name = 'ogbn-tinynftgraph'"
   ]
  },
  {
   "cell_type": "code",
   "execution_count": 64,
   "metadata": {},
   "outputs": [],
   "source": [
    "saver = DatasetSaver(dataset_name = dataset_name,root=prefix+'/datasets/ogb_graph/submission', is_hetero = False, version = 1)"
   ]
  },
  {
   "cell_type": "code",
   "execution_count": 65,
   "metadata": {},
   "outputs": [],
   "source": [
    "g = dict()\n",
    "labels = np.array(data.y)\n",
    "graph_list = []"
   ]
  },
  {
   "cell_type": "code",
   "execution_count": 66,
   "metadata": {},
   "outputs": [
    {
     "data": {
      "text/plain": [
       "Data(x=[20000, 8], edge_index=[2, 227327], edge_attr=[227327, 4], y=[20000], train_mask=[20000], val_mask=[20000], test_mask=[20000], etime=[227327])"
      ]
     },
     "execution_count": 66,
     "metadata": {},
     "output_type": "execute_result"
    }
   ],
   "source": [
    "data"
   ]
  },
  {
   "cell_type": "code",
   "execution_count": 67,
   "metadata": {},
   "outputs": [
    {
     "name": "stdout",
     "output_type": "stream",
     "text": [
      "dict_keys(['num_nodes', 'node_feat', 'edge_index', 'edge_feat', 'edge_time'])\n",
      "Saving edge_index\n",
      "Saving all the files!\n",
      "Validating...\n",
      "Reading saved files\n",
      "Loading necessary files...\n",
      "This might take a while.\n",
      "Processing graphs...\n"
     ]
    },
    {
     "name": "stderr",
     "output_type": "stream",
     "text": [
      "100%|██████████| 1/1 [00:00<00:00, 6786.90it/s]\n"
     ]
    },
    {
     "name": "stdout",
     "output_type": "stream",
     "text": [
      "Checking read graphs and given graphs are the same\n"
     ]
    },
    {
     "name": "stderr",
     "output_type": "stream",
     "text": [
      "100%|██████████| 1/1 [00:00<00:00, 15.53it/s]\n"
     ]
    }
   ],
   "source": [
    "# fill dict\n",
    "g['num_nodes'] = int(data.num_nodes)\n",
    "g['node_feat'] = np.array(data.x) # axis = 1 is column!\n",
    "g['edge_index'] = np.array(data.edge_index)\n",
    "g['edge_feat'] = np.array(data.edge_attr)\n",
    "g['edge_time'] = np.array(data.etime)\n",
    "# saving a list of graphs\n",
    "graph_list.append(g)\n",
    "saver.save_graph_list(graph_list)\n",
    "saver.save_target_labels(labels.reshape(-1,1))"
   ]
  },
  {
   "cell_type": "code",
   "execution_count": 68,
   "metadata": {},
   "outputs": [],
   "source": [
    "split_idx = dict()\n",
    "num_data = len(labels)\n",
    "split_idx['train'] = data.train_mask.nonzero().squeeze()\n",
    "split_idx['valid'] = data.val_mask.nonzero().squeeze()\n",
    "split_idx['test'] = data.test_mask.nonzero().squeeze()\n",
    "saver.save_split(split_idx, split_name = 'random')"
   ]
  },
  {
   "cell_type": "code",
   "execution_count": 69,
   "metadata": {},
   "outputs": [],
   "source": [
    "mapping_path = prefix+'/datasets/mapping'\n",
    "os.makedirs(mapping_path,exist_ok=True)\n",
    "try:\n",
    "    os.mknod(os.path.join(mapping_path, 'README.md'))\n",
    "except:\n",
    "    print(\"Readme.md already exists.\")\n",
    "saver.copy_mapping_dir(mapping_path)"
   ]
  },
  {
   "cell_type": "code",
   "execution_count": 70,
   "metadata": {},
   "outputs": [
    {
     "name": "stdout",
     "output_type": "stream",
     "text": [
      "binary classification\n",
      "2\n"
     ]
    }
   ],
   "source": [
    "saver.save_task_info(task_type = 'binary classification', eval_metric = 'rocauc', num_classes = 2)"
   ]
  },
  {
   "cell_type": "code",
   "execution_count": 71,
   "metadata": {},
   "outputs": [],
   "source": [
    "meta_dict = saver.get_meta_dict()"
   ]
  },
  {
   "cell_type": "code",
   "execution_count": 72,
   "metadata": {},
   "outputs": [],
   "source": [
    "saver.zip()\n",
    "saver.cleanup()"
   ]
  },
  {
   "cell_type": "code",
   "execution_count": 73,
   "metadata": {},
   "outputs": [],
   "source": [
    "filedir = prefix+'/datasets/ogb_graph/submission_ogbn_tinynftgraph/tinynftgraph.zip'\n",
    "dstdirs = prefix+'/datasets/ogb_graph/submission_ogbn_tinynftgraph/tinynftgraph'"
   ]
  },
  {
   "cell_type": "code",
   "execution_count": 74,
   "metadata": {},
   "outputs": [
    {
     "name": "stdout",
     "output_type": "stream",
     "text": [
      "Archive:  /data/sx/NFTGraph/datasets/ogb_graph/submission_ogbn_tinynftgraph/tinynftgraph.zip\n",
      "   creating: /data/sx/NFTGraph/datasets/ogb_graph/submission_ogbn_tinynftgraph/tinynftgraph/mapping/\n",
      "   creating: /data/sx/NFTGraph/datasets/ogb_graph/submission_ogbn_tinynftgraph/tinynftgraph/processed/\n",
      "   creating: /data/sx/NFTGraph/datasets/ogb_graph/submission_ogbn_tinynftgraph/tinynftgraph/raw/\n",
      "   creating: /data/sx/NFTGraph/datasets/ogb_graph/submission_ogbn_tinynftgraph/tinynftgraph/split/\n",
      "  inflating: /data/sx/NFTGraph/datasets/ogb_graph/submission_ogbn_tinynftgraph/tinynftgraph/RELEASE_v1.txt  \n",
      "  inflating: /data/sx/NFTGraph/datasets/ogb_graph/submission_ogbn_tinynftgraph/tinynftgraph/mapping/README.md  \n",
      "   creating: /data/sx/NFTGraph/datasets/ogb_graph/submission_ogbn_tinynftgraph/tinynftgraph/split/random/\n",
      "  inflating: /data/sx/NFTGraph/datasets/ogb_graph/submission_ogbn_tinynftgraph/tinynftgraph/split/random/split_dict.pt  \n",
      "  inflating: /data/sx/NFTGraph/datasets/ogb_graph/submission_ogbn_tinynftgraph/tinynftgraph/raw/node-label.npz  \n",
      "  inflating: /data/sx/NFTGraph/datasets/ogb_graph/submission_ogbn_tinynftgraph/tinynftgraph/raw/data.npz  \n"
     ]
    }
   ],
   "source": [
    "!unzip $filedir -d $dstdirs"
   ]
  },
  {
   "cell_type": "code",
   "execution_count": 75,
   "metadata": {},
   "outputs": [
    {
     "name": "stdout",
     "output_type": "stream",
     "text": [
      "Loading necessary files...\n",
      "This might take a while.\n",
      "Processing graphs...\n"
     ]
    },
    {
     "name": "stderr",
     "output_type": "stream",
     "text": [
      "100%|██████████| 1/1 [00:00<00:00, 6307.22it/s]"
     ]
    },
    {
     "name": "stdout",
     "output_type": "stream",
     "text": [
      "Saving...\n"
     ]
    },
    {
     "name": "stderr",
     "output_type": "stream",
     "text": [
      "\n"
     ]
    }
   ],
   "source": [
    "dataset = NodePropPredDataset(dataset_name,root=prefix+'/dataset/',meta_dict = meta_dict)"
   ]
  },
  {
   "cell_type": "code",
   "execution_count": 76,
   "metadata": {},
   "outputs": [],
   "source": [
    "split_edge = dataset.get_idx_split()"
   ]
  },
  {
   "cell_type": "code",
   "execution_count": null,
   "metadata": {},
   "outputs": [],
   "source": []
  }
 ],
 "metadata": {
  "kernelspec": {
   "display_name": "Python 3",
   "language": "python",
   "name": "python3"
  },
  "language_info": {
   "codemirror_mode": {
    "name": "ipython",
    "version": 3
   },
   "file_extension": ".py",
   "mimetype": "text/x-python",
   "name": "python",
   "nbconvert_exporter": "python",
   "pygments_lexer": "ipython3",
   "version": "3.8.0"
  }
 },
 "nbformat": 4,
 "nbformat_minor": 0
}
