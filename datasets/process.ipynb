{
 "cells": [
  {
   "cell_type": "code",
   "execution_count": 1,
   "metadata": {
    "collapsed": false,
    "pycharm": {
     "name": "#%%\n"
    }
   },
   "outputs": [],
   "source": [
    "import dgl\n",
    "import torch\n",
    "import numpy as np\n",
    "import os\n",
    "import random\n",
    "import pandas as pd\n",
    "import bidict\n",
    "\n",
    "def set_seed(seed=3407):\n",
    "    os.environ['PYTHONHASHSEED'] = str(seed)\n",
    "    random.seed(seed)\n",
    "    np.random.seed(seed)\n",
    "    torch.manual_seed(seed)\n",
    "    if torch.cuda.is_available():\n",
    "        torch.cuda.manual_seed(seed)\n",
    "        torch.cuda.manual_seed_all(seed)\n",
    "        torch.backends.cudnn.deterministic = True"
   ]
  },
  {
   "cell_type": "code",
   "execution_count": 2,
   "metadata": {},
   "outputs": [],
   "source": [
    "prefix = '/data/sx/NFTGraph'"
   ]
  },
  {
   "cell_type": "code",
   "execution_count": 3,
   "metadata": {},
   "outputs": [],
   "source": [
    "dfnodes = pd.read_csv(prefix+'/raw_data/nodes.csv')"
   ]
  },
  {
   "cell_type": "code",
   "execution_count": 4,
   "metadata": {},
   "outputs": [
    {
     "data": {
      "text/html": [
       "<div>\n",
       "<style scoped>\n",
       "    .dataframe tbody tr th:only-of-type {\n",
       "        vertical-align: middle;\n",
       "    }\n",
       "\n",
       "    .dataframe tbody tr th {\n",
       "        vertical-align: top;\n",
       "    }\n",
       "\n",
       "    .dataframe thead th {\n",
       "        text-align: right;\n",
       "    }\n",
       "</style>\n",
       "<table border=\"1\" class=\"dataframe\">\n",
       "  <thead>\n",
       "    <tr style=\"text-align: right;\">\n",
       "      <th></th>\n",
       "      <th>addr</th>\n",
       "      <th>OutCnt</th>\n",
       "      <th>OutAmount</th>\n",
       "      <th>OutValue</th>\n",
       "      <th>OutTransFee</th>\n",
       "      <th>InCnt</th>\n",
       "      <th>InAmount</th>\n",
       "      <th>InValue</th>\n",
       "      <th>InTransFee</th>\n",
       "      <th>label</th>\n",
       "    </tr>\n",
       "  </thead>\n",
       "  <tbody>\n",
       "    <tr>\n",
       "      <th>0</th>\n",
       "      <td>0x9463ea1dadf279e174e1075b49b8b7a13d1e7293</td>\n",
       "      <td>30.0</td>\n",
       "      <td>30.0</td>\n",
       "      <td>7.403125e+03</td>\n",
       "      <td>3.110050e+02</td>\n",
       "      <td>27.0</td>\n",
       "      <td>27.0</td>\n",
       "      <td>3.326335e+03</td>\n",
       "      <td>7.013300e+02</td>\n",
       "      <td>0</td>\n",
       "    </tr>\n",
       "    <tr>\n",
       "      <th>1</th>\n",
       "      <td>0x0000000000000000000000000000000000000000</td>\n",
       "      <td>2650186.0</td>\n",
       "      <td>7217724.0</td>\n",
       "      <td>7.123250e+08</td>\n",
       "      <td>2.160977e+07</td>\n",
       "      <td>595830.0</td>\n",
       "      <td>2410795.0</td>\n",
       "      <td>2.029615e+07</td>\n",
       "      <td>4.879685e+06</td>\n",
       "      <td>0</td>\n",
       "    </tr>\n",
       "    <tr>\n",
       "      <th>2</th>\n",
       "      <td>0x5b84e08b8883f400120da8a0099ba142641d1abb</td>\n",
       "      <td>14.0</td>\n",
       "      <td>14.0</td>\n",
       "      <td>1.984900e+02</td>\n",
       "      <td>2.059900e+02</td>\n",
       "      <td>22.0</td>\n",
       "      <td>22.0</td>\n",
       "      <td>1.892580e+03</td>\n",
       "      <td>4.943800e+02</td>\n",
       "      <td>0</td>\n",
       "    </tr>\n",
       "    <tr>\n",
       "      <th>3</th>\n",
       "      <td>0x51d64770529adafe067e589423e101f93c8a87c1</td>\n",
       "      <td>1.0</td>\n",
       "      <td>1.0</td>\n",
       "      <td>1.590000e+00</td>\n",
       "      <td>1.140000e+00</td>\n",
       "      <td>0.0</td>\n",
       "      <td>0.0</td>\n",
       "      <td>0.000000e+00</td>\n",
       "      <td>0.000000e+00</td>\n",
       "      <td>0</td>\n",
       "    </tr>\n",
       "    <tr>\n",
       "      <th>4</th>\n",
       "      <td>0x3803b6f9bbf032c2299cec3ac5f527424e3639bc</td>\n",
       "      <td>17.0</td>\n",
       "      <td>29.0</td>\n",
       "      <td>9.289000e+01</td>\n",
       "      <td>9.000000e+01</td>\n",
       "      <td>7.0</td>\n",
       "      <td>31.0</td>\n",
       "      <td>0.000000e+00</td>\n",
       "      <td>9.116000e+01</td>\n",
       "      <td>0</td>\n",
       "    </tr>\n",
       "    <tr>\n",
       "      <th>...</th>\n",
       "      <td>...</td>\n",
       "      <td>...</td>\n",
       "      <td>...</td>\n",
       "      <td>...</td>\n",
       "      <td>...</td>\n",
       "      <td>...</td>\n",
       "      <td>...</td>\n",
       "      <td>...</td>\n",
       "      <td>...</td>\n",
       "      <td>...</td>\n",
       "    </tr>\n",
       "    <tr>\n",
       "      <th>1161842</th>\n",
       "      <td>0x00bc93ecdaae32f82bace83bb53970ea3de2d6bd</td>\n",
       "      <td>0.0</td>\n",
       "      <td>0.0</td>\n",
       "      <td>0.000000e+00</td>\n",
       "      <td>0.000000e+00</td>\n",
       "      <td>1.0</td>\n",
       "      <td>1.0</td>\n",
       "      <td>6.756000e+01</td>\n",
       "      <td>3.950000e+01</td>\n",
       "      <td>0</td>\n",
       "    </tr>\n",
       "    <tr>\n",
       "      <th>1161843</th>\n",
       "      <td>0x8bb5e1374e85effd86103335ff12ce943e9e29e3</td>\n",
       "      <td>0.0</td>\n",
       "      <td>0.0</td>\n",
       "      <td>0.000000e+00</td>\n",
       "      <td>0.000000e+00</td>\n",
       "      <td>1.0</td>\n",
       "      <td>1.0</td>\n",
       "      <td>2.702400e+02</td>\n",
       "      <td>6.952000e+01</td>\n",
       "      <td>0</td>\n",
       "    </tr>\n",
       "    <tr>\n",
       "      <th>1161844</th>\n",
       "      <td>0x2a41cc186f2ae9ae4899f826e596db12cd1bfc6d</td>\n",
       "      <td>0.0</td>\n",
       "      <td>0.0</td>\n",
       "      <td>0.000000e+00</td>\n",
       "      <td>0.000000e+00</td>\n",
       "      <td>1.0</td>\n",
       "      <td>1.0</td>\n",
       "      <td>6.756000e+01</td>\n",
       "      <td>4.772000e+01</td>\n",
       "      <td>0</td>\n",
       "    </tr>\n",
       "    <tr>\n",
       "      <th>1161845</th>\n",
       "      <td>0x4ed0e07ff7750b5ab823cf40f07b08b076063b08</td>\n",
       "      <td>0.0</td>\n",
       "      <td>0.0</td>\n",
       "      <td>0.000000e+00</td>\n",
       "      <td>0.000000e+00</td>\n",
       "      <td>1.0</td>\n",
       "      <td>1.0</td>\n",
       "      <td>6.756000e+01</td>\n",
       "      <td>6.226000e+01</td>\n",
       "      <td>0</td>\n",
       "    </tr>\n",
       "    <tr>\n",
       "      <th>1161846</th>\n",
       "      <td>0x9eb8c0f97bf3abed1c8ef938d5a0f15407e7a32a</td>\n",
       "      <td>0.0</td>\n",
       "      <td>0.0</td>\n",
       "      <td>0.000000e+00</td>\n",
       "      <td>0.000000e+00</td>\n",
       "      <td>1.0</td>\n",
       "      <td>1.0</td>\n",
       "      <td>2.702400e+02</td>\n",
       "      <td>3.697000e+01</td>\n",
       "      <td>0</td>\n",
       "    </tr>\n",
       "  </tbody>\n",
       "</table>\n",
       "<p>1161847 rows × 10 columns</p>\n",
       "</div>"
      ],
      "text/plain": [
       "                                               addr     OutCnt  OutAmount  \\\n",
       "0        0x9463ea1dadf279e174e1075b49b8b7a13d1e7293       30.0       30.0   \n",
       "1        0x0000000000000000000000000000000000000000  2650186.0  7217724.0   \n",
       "2        0x5b84e08b8883f400120da8a0099ba142641d1abb       14.0       14.0   \n",
       "3        0x51d64770529adafe067e589423e101f93c8a87c1        1.0        1.0   \n",
       "4        0x3803b6f9bbf032c2299cec3ac5f527424e3639bc       17.0       29.0   \n",
       "...                                             ...        ...        ...   \n",
       "1161842  0x00bc93ecdaae32f82bace83bb53970ea3de2d6bd        0.0        0.0   \n",
       "1161843  0x8bb5e1374e85effd86103335ff12ce943e9e29e3        0.0        0.0   \n",
       "1161844  0x2a41cc186f2ae9ae4899f826e596db12cd1bfc6d        0.0        0.0   \n",
       "1161845  0x4ed0e07ff7750b5ab823cf40f07b08b076063b08        0.0        0.0   \n",
       "1161846  0x9eb8c0f97bf3abed1c8ef938d5a0f15407e7a32a        0.0        0.0   \n",
       "\n",
       "             OutValue   OutTransFee     InCnt   InAmount       InValue  \\\n",
       "0        7.403125e+03  3.110050e+02      27.0       27.0  3.326335e+03   \n",
       "1        7.123250e+08  2.160977e+07  595830.0  2410795.0  2.029615e+07   \n",
       "2        1.984900e+02  2.059900e+02      22.0       22.0  1.892580e+03   \n",
       "3        1.590000e+00  1.140000e+00       0.0        0.0  0.000000e+00   \n",
       "4        9.289000e+01  9.000000e+01       7.0       31.0  0.000000e+00   \n",
       "...               ...           ...       ...        ...           ...   \n",
       "1161842  0.000000e+00  0.000000e+00       1.0        1.0  6.756000e+01   \n",
       "1161843  0.000000e+00  0.000000e+00       1.0        1.0  2.702400e+02   \n",
       "1161844  0.000000e+00  0.000000e+00       1.0        1.0  6.756000e+01   \n",
       "1161845  0.000000e+00  0.000000e+00       1.0        1.0  6.756000e+01   \n",
       "1161846  0.000000e+00  0.000000e+00       1.0        1.0  2.702400e+02   \n",
       "\n",
       "           InTransFee  label  \n",
       "0        7.013300e+02      0  \n",
       "1        4.879685e+06      0  \n",
       "2        4.943800e+02      0  \n",
       "3        0.000000e+00      0  \n",
       "4        9.116000e+01      0  \n",
       "...               ...    ...  \n",
       "1161842  3.950000e+01      0  \n",
       "1161843  6.952000e+01      0  \n",
       "1161844  4.772000e+01      0  \n",
       "1161845  6.226000e+01      0  \n",
       "1161846  3.697000e+01      0  \n",
       "\n",
       "[1161847 rows x 10 columns]"
      ]
     },
     "execution_count": 4,
     "metadata": {},
     "output_type": "execute_result"
    }
   ],
   "source": [
    "dfnodes"
   ]
  },
  {
   "cell_type": "code",
   "execution_count": 5,
   "metadata": {},
   "outputs": [],
   "source": [
    "node_dict = bidict.bidict()"
   ]
  },
  {
   "cell_type": "code",
   "execution_count": 6,
   "metadata": {},
   "outputs": [
    {
     "data": {
      "text/plain": [
       "array([['0x9463ea1dadf279e174e1075b49b8b7a13d1e7293', 0],\n",
       "       ['0x0000000000000000000000000000000000000000', 0],\n",
       "       ['0x5b84e08b8883f400120da8a0099ba142641d1abb', 0],\n",
       "       ...,\n",
       "       ['0x2a41cc186f2ae9ae4899f826e596db12cd1bfc6d', 0],\n",
       "       ['0x4ed0e07ff7750b5ab823cf40f07b08b076063b08', 0],\n",
       "       ['0x9eb8c0f97bf3abed1c8ef938d5a0f15407e7a32a', 0]], dtype=object)"
      ]
     },
     "execution_count": 6,
     "metadata": {},
     "output_type": "execute_result"
    }
   ],
   "source": [
    "labels = dfnodes[['addr','label']].to_numpy()\n",
    "labels"
   ]
  },
  {
   "cell_type": "code",
   "execution_count": 7,
   "metadata": {},
   "outputs": [],
   "source": [
    "for i in range(labels.shape[0]):\n",
    "    node_dict[i] = labels[i][0]"
   ]
  },
  {
   "cell_type": "code",
   "execution_count": 8,
   "metadata": {},
   "outputs": [],
   "source": [
    "node_features = dfnodes[['addr','OutCnt','OutAmount','OutValue','OutTransFee','InCnt','InAmount','InValue','InTransFee']].to_numpy()"
   ]
  },
  {
   "cell_type": "code",
   "execution_count": 9,
   "metadata": {},
   "outputs": [],
   "source": [
    "features = node_features[:,1:]"
   ]
  },
  {
   "cell_type": "code",
   "execution_count": 10,
   "metadata": {},
   "outputs": [],
   "source": [
    "train_ratio, val_ratio = 0.4, 0.2\n",
    "\n",
    "nodes_anomaly = []\n",
    "nodes_non_anomaly = []\n",
    "for i in range(len(labels)):\n",
    "    if labels[i][1]==1:\n",
    "        nodes_anomaly.append(i)\n",
    "    else:\n",
    "        nodes_non_anomaly.append(i)\n",
    "\n",
    "n = labels.shape[0]\n",
    "train_mask = torch.zeros(n).bool()\n",
    "val_mask = torch.zeros(n).bool()\n",
    "test_mask = torch.zeros(n).bool()\n",
    "\n",
    "import random\n",
    "random.shuffle(nodes_anomaly)\n",
    "train_ones = nodes_anomaly[:int(len(nodes_anomaly)*train_ratio)]\n",
    "val_ones = nodes_anomaly[int(len(nodes_anomaly)*train_ratio):int(len(nodes_anomaly)*(train_ratio+val_ratio))]\n",
    "test_ones = nodes_anomaly[int(len(nodes_anomaly)*(train_ratio+val_ratio)):]\n",
    "\n",
    "random.shuffle(nodes_non_anomaly)\n",
    "train_zeros = nodes_non_anomaly[:int(len(nodes_non_anomaly)*train_ratio)]\n",
    "val_zeros = nodes_non_anomaly[int(len(nodes_non_anomaly)*train_ratio):int(len(nodes_non_anomaly)*(train_ratio+val_ratio))]\n",
    "test_zeros = nodes_non_anomaly[int(len(nodes_non_anomaly)*(train_ratio+val_ratio)):]\n",
    "\n",
    "for i in train_ones+train_zeros:\n",
    "    train_mask[i] = True\n",
    "\n",
    "for i in val_ones+val_zeros:\n",
    "    val_mask[i] = True\n",
    "    \n",
    "for i in test_ones+test_zeros:\n",
    "    test_mask[i] = True"
   ]
  },
  {
   "cell_type": "code",
   "execution_count": 11,
   "metadata": {},
   "outputs": [],
   "source": [
    "dfedges = pd.read_csv(prefix+'/raw_data/edges.csv')"
   ]
  },
  {
   "cell_type": "code",
   "execution_count": 12,
   "metadata": {},
   "outputs": [
    {
     "data": {
      "text/html": [
       "<div>\n",
       "<style scoped>\n",
       "    .dataframe tbody tr th:only-of-type {\n",
       "        vertical-align: middle;\n",
       "    }\n",
       "\n",
       "    .dataframe tbody tr th {\n",
       "        vertical-align: top;\n",
       "    }\n",
       "\n",
       "    .dataframe thead th {\n",
       "        text-align: right;\n",
       "    }\n",
       "</style>\n",
       "<table border=\"1\" class=\"dataframe\">\n",
       "  <thead>\n",
       "    <tr style=\"text-align: right;\">\n",
       "      <th></th>\n",
       "      <th>from</th>\n",
       "      <th>to</th>\n",
       "      <th>timestamp</th>\n",
       "      <th>transferedAmount</th>\n",
       "      <th>value</th>\n",
       "      <th>transactionFee</th>\n",
       "      <th>TxnsCnt</th>\n",
       "    </tr>\n",
       "  </thead>\n",
       "  <tbody>\n",
       "    <tr>\n",
       "      <th>0</th>\n",
       "      <td>0x9463ea1dadf279e174e1075b49b8b7a13d1e7293</td>\n",
       "      <td>0x6e388502b891ca05eb52525338172f261c31b7d3</td>\n",
       "      <td>20220730055230</td>\n",
       "      <td>1</td>\n",
       "      <td>78.52</td>\n",
       "      <td>2.230</td>\n",
       "      <td>1</td>\n",
       "    </tr>\n",
       "    <tr>\n",
       "      <th>1</th>\n",
       "      <td>0x0000000000000000000000000000000000000000</td>\n",
       "      <td>0xd8b75eb7bd778ac0b3f5ffad69bcc2e25bccac95</td>\n",
       "      <td>20220730055230</td>\n",
       "      <td>18</td>\n",
       "      <td>0.00</td>\n",
       "      <td>6.370</td>\n",
       "      <td>2</td>\n",
       "    </tr>\n",
       "    <tr>\n",
       "      <th>2</th>\n",
       "      <td>0x5b84e08b8883f400120da8a0099ba142641d1abb</td>\n",
       "      <td>0x4fffd4614ef28eb2618a27c5d88a5fd92c6d6580</td>\n",
       "      <td>20220730055138</td>\n",
       "      <td>11</td>\n",
       "      <td>0.00</td>\n",
       "      <td>82.530</td>\n",
       "      <td>11</td>\n",
       "    </tr>\n",
       "    <tr>\n",
       "      <th>3</th>\n",
       "      <td>0x51d64770529adafe067e589423e101f93c8a87c1</td>\n",
       "      <td>0xb9b432febe524277149f51aa4cdcf387bc7ce1e2</td>\n",
       "      <td>20220730054502</td>\n",
       "      <td>1</td>\n",
       "      <td>1.59</td>\n",
       "      <td>1.140</td>\n",
       "      <td>1</td>\n",
       "    </tr>\n",
       "    <tr>\n",
       "      <th>4</th>\n",
       "      <td>0x0000000000000000000000000000000000000000</td>\n",
       "      <td>0x30bf256a743f071ea4d9333fb4775e83ecc04066</td>\n",
       "      <td>20220730054502</td>\n",
       "      <td>3</td>\n",
       "      <td>0.00</td>\n",
       "      <td>1.040</td>\n",
       "      <td>1</td>\n",
       "    </tr>\n",
       "    <tr>\n",
       "      <th>...</th>\n",
       "      <td>...</td>\n",
       "      <td>...</td>\n",
       "      <td>...</td>\n",
       "      <td>...</td>\n",
       "      <td>...</td>\n",
       "      <td>...</td>\n",
       "      <td>...</td>\n",
       "    </tr>\n",
       "    <tr>\n",
       "      <th>2851402</th>\n",
       "      <td>0xf5daf8733cc0318a80dcbf2020d1c0940bfab24c</td>\n",
       "      <td>0x9b99a8d7aeff179f64f947076babf554596e196a</td>\n",
       "      <td>20210313080456</td>\n",
       "      <td>1</td>\n",
       "      <td>135.07</td>\n",
       "      <td>35.560</td>\n",
       "      <td>1</td>\n",
       "    </tr>\n",
       "    <tr>\n",
       "      <th>2851403</th>\n",
       "      <td>0xf5daf8733cc0318a80dcbf2020d1c0940bfab24c</td>\n",
       "      <td>0xf79eff7690a4ae15d53cf7b90f8c20e223f2cfa6</td>\n",
       "      <td>20210313072058</td>\n",
       "      <td>1</td>\n",
       "      <td>135.07</td>\n",
       "      <td>38.270</td>\n",
       "      <td>1</td>\n",
       "    </tr>\n",
       "    <tr>\n",
       "      <th>2851404</th>\n",
       "      <td>0x0000000000000000000000000000000000000000</td>\n",
       "      <td>0xf5daf8733cc0318a80dcbf2020d1c0940bfab24c</td>\n",
       "      <td>20210312200507</td>\n",
       "      <td>10</td>\n",
       "      <td>0.00</td>\n",
       "      <td>147.810</td>\n",
       "      <td>3</td>\n",
       "    </tr>\n",
       "    <tr>\n",
       "      <th>2851405</th>\n",
       "      <td>0x886d4a38ced1282013a26017452cb3dbb124dbf3</td>\n",
       "      <td>0x244763ea2039d880b62d2ba427d8919eba6ee50b</td>\n",
       "      <td>20220317094101</td>\n",
       "      <td>1</td>\n",
       "      <td>0.00</td>\n",
       "      <td>2.300</td>\n",
       "      <td>1</td>\n",
       "    </tr>\n",
       "    <tr>\n",
       "      <th>2851406</th>\n",
       "      <td>0x5df977d385254d9a66ab8cd35e87e1e0c419b135</td>\n",
       "      <td>0x886d4a38ced1282013a26017452cb3dbb124dbf3</td>\n",
       "      <td>20220317093957</td>\n",
       "      <td>1</td>\n",
       "      <td>0.00</td>\n",
       "      <td>7.735</td>\n",
       "      <td>1</td>\n",
       "    </tr>\n",
       "  </tbody>\n",
       "</table>\n",
       "<p>2851407 rows × 7 columns</p>\n",
       "</div>"
      ],
      "text/plain": [
       "                                               from  \\\n",
       "0        0x9463ea1dadf279e174e1075b49b8b7a13d1e7293   \n",
       "1        0x0000000000000000000000000000000000000000   \n",
       "2        0x5b84e08b8883f400120da8a0099ba142641d1abb   \n",
       "3        0x51d64770529adafe067e589423e101f93c8a87c1   \n",
       "4        0x0000000000000000000000000000000000000000   \n",
       "...                                             ...   \n",
       "2851402  0xf5daf8733cc0318a80dcbf2020d1c0940bfab24c   \n",
       "2851403  0xf5daf8733cc0318a80dcbf2020d1c0940bfab24c   \n",
       "2851404  0x0000000000000000000000000000000000000000   \n",
       "2851405  0x886d4a38ced1282013a26017452cb3dbb124dbf3   \n",
       "2851406  0x5df977d385254d9a66ab8cd35e87e1e0c419b135   \n",
       "\n",
       "                                                 to       timestamp  \\\n",
       "0        0x6e388502b891ca05eb52525338172f261c31b7d3  20220730055230   \n",
       "1        0xd8b75eb7bd778ac0b3f5ffad69bcc2e25bccac95  20220730055230   \n",
       "2        0x4fffd4614ef28eb2618a27c5d88a5fd92c6d6580  20220730055138   \n",
       "3        0xb9b432febe524277149f51aa4cdcf387bc7ce1e2  20220730054502   \n",
       "4        0x30bf256a743f071ea4d9333fb4775e83ecc04066  20220730054502   \n",
       "...                                             ...             ...   \n",
       "2851402  0x9b99a8d7aeff179f64f947076babf554596e196a  20210313080456   \n",
       "2851403  0xf79eff7690a4ae15d53cf7b90f8c20e223f2cfa6  20210313072058   \n",
       "2851404  0xf5daf8733cc0318a80dcbf2020d1c0940bfab24c  20210312200507   \n",
       "2851405  0x244763ea2039d880b62d2ba427d8919eba6ee50b  20220317094101   \n",
       "2851406  0x886d4a38ced1282013a26017452cb3dbb124dbf3  20220317093957   \n",
       "\n",
       "         transferedAmount   value  transactionFee  TxnsCnt  \n",
       "0                       1   78.52           2.230        1  \n",
       "1                      18    0.00           6.370        2  \n",
       "2                      11    0.00          82.530       11  \n",
       "3                       1    1.59           1.140        1  \n",
       "4                       3    0.00           1.040        1  \n",
       "...                   ...     ...             ...      ...  \n",
       "2851402                 1  135.07          35.560        1  \n",
       "2851403                 1  135.07          38.270        1  \n",
       "2851404                10    0.00         147.810        3  \n",
       "2851405                 1    0.00           2.300        1  \n",
       "2851406                 1    0.00           7.735        1  \n",
       "\n",
       "[2851407 rows x 7 columns]"
      ]
     },
     "execution_count": 12,
     "metadata": {},
     "output_type": "execute_result"
    }
   ],
   "source": [
    "dfedges"
   ]
  },
  {
   "cell_type": "code",
   "execution_count": 13,
   "metadata": {},
   "outputs": [
    {
     "data": {
      "text/plain": [
       "array([['0x9463ea1dadf279e174e1075b49b8b7a13d1e7293',\n",
       "        '0x6e388502b891ca05eb52525338172f261c31b7d3'],\n",
       "       ['0x0000000000000000000000000000000000000000',\n",
       "        '0xd8b75eb7bd778ac0b3f5ffad69bcc2e25bccac95'],\n",
       "       ['0x5b84e08b8883f400120da8a0099ba142641d1abb',\n",
       "        '0x4fffd4614ef28eb2618a27c5d88a5fd92c6d6580'],\n",
       "       ...,\n",
       "       ['0x0000000000000000000000000000000000000000',\n",
       "        '0xf5daf8733cc0318a80dcbf2020d1c0940bfab24c'],\n",
       "       ['0x886d4a38ced1282013a26017452cb3dbb124dbf3',\n",
       "        '0x244763ea2039d880b62d2ba427d8919eba6ee50b'],\n",
       "       ['0x5df977d385254d9a66ab8cd35e87e1e0c419b135',\n",
       "        '0x886d4a38ced1282013a26017452cb3dbb124dbf3']], dtype=object)"
      ]
     },
     "execution_count": 13,
     "metadata": {},
     "output_type": "execute_result"
    }
   ],
   "source": [
    "edges = dfedges[['from','to']].to_numpy()\n",
    "edges"
   ]
  },
  {
   "cell_type": "code",
   "execution_count": 14,
   "metadata": {},
   "outputs": [],
   "source": [
    "new_edges = np.zeros_like(edges)"
   ]
  },
  {
   "cell_type": "code",
   "execution_count": 15,
   "metadata": {},
   "outputs": [],
   "source": [
    "for i in range(edges.shape[0]):\n",
    "    new_edges[i][0] = node_dict.inv[edges[i][0]]\n",
    "    new_edges[i][1] = node_dict.inv[edges[i][1]]"
   ]
  },
  {
   "cell_type": "code",
   "execution_count": 16,
   "metadata": {},
   "outputs": [],
   "source": [
    "graph = dgl.graph((new_edges[:,0].astype(int), new_edges[:,1].astype(int)))\n",
    "graph.ndata['train_mask'] = train_mask\n",
    "graph.ndata['val_mask'] = val_mask\n",
    "graph.ndata['test_mask'] = test_mask\n",
    "graph.ndata['label'] = torch.tensor(labels[:,1].astype(int))\n",
    "graph.ndata['feature'] = torch.tensor(features.astype(float))"
   ]
  },
  {
   "cell_type": "code",
   "execution_count": 17,
   "metadata": {},
   "outputs": [],
   "source": [
    "graph.edata['timestamp'] = torch.tensor(dfedges['timestamp'].astype(int))"
   ]
  },
  {
   "cell_type": "code",
   "execution_count": 18,
   "metadata": {},
   "outputs": [],
   "source": [
    "efeatures = dfedges[['TxnsCnt','transferedAmount','value','transactionFee']].to_numpy()"
   ]
  },
  {
   "cell_type": "code",
   "execution_count": 19,
   "metadata": {},
   "outputs": [],
   "source": [
    "graph.edata['feature'] = torch.tensor(efeatures)"
   ]
  },
  {
   "cell_type": "code",
   "execution_count": 20,
   "metadata": {},
   "outputs": [
    {
     "data": {
      "text/plain": [
       "Graph(num_nodes=1161847, num_edges=2851407,\n",
       "      ndata_schemes={'train_mask': Scheme(shape=(), dtype=torch.bool), 'val_mask': Scheme(shape=(), dtype=torch.bool), 'test_mask': Scheme(shape=(), dtype=torch.bool), 'label': Scheme(shape=(), dtype=torch.int64), 'feature': Scheme(shape=(8,), dtype=torch.float64)}\n",
       "      edata_schemes={'timestamp': Scheme(shape=(), dtype=torch.int64), 'feature': Scheme(shape=(4,), dtype=torch.float64)})"
      ]
     },
     "execution_count": 20,
     "metadata": {},
     "output_type": "execute_result"
    }
   ],
   "source": [
    "graph"
   ]
  },
  {
   "cell_type": "code",
   "execution_count": 21,
   "metadata": {},
   "outputs": [],
   "source": [
    "dgl.save_graphs(prefix+'/datasets/dgl_graph/nftgraph.bin', [graph])"
   ]
  },
  {
   "cell_type": "code",
   "execution_count": 22,
   "metadata": {},
   "outputs": [],
   "source": [
    "import torch\n",
    "from torch_geometric.data import Data\n",
    "\n",
    "c = torch.stack([graph.edges()[0], graph.edges()[1]], dim=1).t().contiguous()\n",
    "\n",
    "data = Data(x=graph.ndata['feature'],edge_index=c,y=graph.ndata['label'],train_mask=graph.ndata['train_mask'],\\\n",
    "            val_mask=graph.ndata['val_mask'],test_mask=graph.ndata['test_mask'],\\\n",
    "            edge_attr=graph.edata['feature'],etime=graph.edata['timestamp'])"
   ]
  },
  {
   "cell_type": "code",
   "execution_count": 23,
   "metadata": {},
   "outputs": [
    {
     "data": {
      "text/plain": [
       "Data(x=[1161847, 8], edge_index=[2, 2851407], edge_attr=[2851407, 4], y=[1161847], train_mask=[1161847], val_mask=[1161847], test_mask=[1161847], etime=[2851407])"
      ]
     },
     "execution_count": 23,
     "metadata": {},
     "output_type": "execute_result"
    }
   ],
   "source": [
    "data"
   ]
  },
  {
   "cell_type": "code",
   "execution_count": 24,
   "metadata": {},
   "outputs": [],
   "source": [
    "torch.save(data,prefix+'/datasets/pyg_graph/nftgraph.bin')"
   ]
  },
  {
   "cell_type": "code",
   "execution_count": 25,
   "metadata": {},
   "outputs": [
    {
     "data": {
      "text/plain": [
       "Data(x=[1161847, 8], edge_index=[2, 2851407], edge_attr=[2851407, 4], y=[1161847], train_mask=[1161847], val_mask=[1161847], test_mask=[1161847], etime=[2851407])"
      ]
     },
     "execution_count": 25,
     "metadata": {},
     "output_type": "execute_result"
    }
   ],
   "source": [
    "data = torch.load(prefix+'/datasets/pyg_graph/nftgraph.bin')\n",
    "data"
   ]
  },
  {
   "cell_type": "code",
   "execution_count": 26,
   "metadata": {},
   "outputs": [],
   "source": [
    "from ogb.io import DatasetSaver\n",
    "from ogb.nodeproppred import NodePropPredDataset"
   ]
  },
  {
   "cell_type": "code",
   "execution_count": 27,
   "metadata": {},
   "outputs": [],
   "source": [
    "dataset_name = 'ogbn-nftgraph'"
   ]
  },
  {
   "cell_type": "code",
   "execution_count": null,
   "metadata": {},
   "outputs": [],
   "source": [
    "saver = DatasetSaver(dataset_name = dataset_name,root=prefix+'/datasets/ogb_graph/submission', is_hetero = False, version = 1)"
   ]
  },
  {
   "cell_type": "code",
   "execution_count": null,
   "metadata": {},
   "outputs": [],
   "source": [
    "g = dict()\n",
    "labels = np.array(data.y)\n",
    "graph_list = []"
   ]
  },
  {
   "cell_type": "code",
   "execution_count": null,
   "metadata": {},
   "outputs": [],
   "source": [
    "data"
   ]
  },
  {
   "cell_type": "code",
   "execution_count": null,
   "metadata": {},
   "outputs": [],
   "source": [
    "# fill dict\n",
    "g['num_nodes'] = int(data.num_nodes)\n",
    "g['node_feat'] = np.array(data.x) # axis = 1 is column!\n",
    "g['edge_index'] = np.array(data.edge_index)\n",
    "g['edge_feat'] = np.array(data.edge_attr)\n",
    "g['edge_time'] = np.array(data.etime)\n",
    "# saving a list of graphs\n",
    "graph_list.append(g)\n",
    "saver.save_graph_list(graph_list)\n",
    "saver.save_target_labels(labels.reshape(-1,1))"
   ]
  },
  {
   "cell_type": "code",
   "execution_count": null,
   "metadata": {},
   "outputs": [],
   "source": [
    "split_idx = dict()\n",
    "num_data = len(labels)\n",
    "split_idx['train'] = data.train_mask.nonzero().squeeze()\n",
    "split_idx['valid'] = data.val_mask.nonzero().squeeze()\n",
    "split_idx['test'] = data.test_mask.nonzero().squeeze()\n",
    "saver.save_split(split_idx, split_name = 'random')"
   ]
  },
  {
   "cell_type": "code",
   "execution_count": null,
   "metadata": {},
   "outputs": [],
   "source": [
    "mapping_path = prefix+'/datasets/mapping'\n",
    "os.makedirs(mapping_path,exist_ok=True)\n",
    "try:\n",
    "    os.mknod(os.path.join(mapping_path, 'README.md'))\n",
    "except:\n",
    "    print(\"Readme.md already exists.\")\n",
    "saver.copy_mapping_dir(mapping_path)"
   ]
  },
  {
   "cell_type": "code",
   "execution_count": null,
   "metadata": {},
   "outputs": [],
   "source": [
    "saver.save_task_info(task_type = 'binary classification', eval_metric = 'rocauc', num_classes = 2)"
   ]
  },
  {
   "cell_type": "code",
   "execution_count": null,
   "metadata": {},
   "outputs": [],
   "source": [
    "meta_dict = saver.get_meta_dict()"
   ]
  },
  {
   "cell_type": "code",
   "execution_count": null,
   "metadata": {},
   "outputs": [],
   "source": [
    "saver.zip()\n",
    "saver.cleanup()"
   ]
  },
  {
   "cell_type": "code",
   "execution_count": null,
   "metadata": {},
   "outputs": [],
   "source": [
    "filedir = prefix+'/datasets/ogb_graph/submission_ogbn_nftgraph/nftgraph.zip'\n",
    "dstdirs = prefix+'/datasets/ogb_graph/submission_ogbn_nftgraph/nftgraph'"
   ]
  },
  {
   "cell_type": "code",
   "execution_count": null,
   "metadata": {},
   "outputs": [],
   "source": [
    "!unzip $filedir -d $dstdirs"
   ]
  },
  {
   "cell_type": "code",
   "execution_count": null,
   "metadata": {},
   "outputs": [],
   "source": [
    "dataset = NodePropPredDataset(dataset_name,root=prefix+'/dataset/',meta_dict = meta_dict)"
   ]
  },
  {
   "cell_type": "code",
   "execution_count": null,
   "metadata": {},
   "outputs": [],
   "source": [
    "split_edge = dataset.get_idx_split()"
   ]
  },
  {
   "cell_type": "code",
   "execution_count": null,
   "metadata": {},
   "outputs": [],
   "source": [
    "from ogb.io import DatasetSaver\n",
    "from ogb.linkproppred import LinkPropPredDataset"
   ]
  },
  {
   "cell_type": "code",
   "execution_count": null,
   "metadata": {},
   "outputs": [],
   "source": [
    "dataset_name = 'ogbl-nftgraph'"
   ]
  },
  {
   "cell_type": "code",
   "execution_count": null,
   "metadata": {},
   "outputs": [],
   "source": [
    "saver = DatasetSaver(dataset_name = dataset_name,root=prefix+'/datasets/ogb_graph/submission', is_hetero = False, version = 1)"
   ]
  },
  {
   "cell_type": "code",
   "execution_count": null,
   "metadata": {},
   "outputs": [],
   "source": [
    "data"
   ]
  },
  {
   "cell_type": "code",
   "execution_count": null,
   "metadata": {},
   "outputs": [],
   "source": [
    "print(f'Dataset: {dataset_name}:')\n",
    "print('======================')\n",
    "print(f'data: {data}')\n",
    "print(f'Number of nodes: {data.num_nodes}')\n",
    "print(f'Number of edges: {data.edge_index.shape[1]}')\n",
    "print(f'Average node degree: {data.num_edges / data.num_nodes:.2f}')\n",
    "print(f'Contains isolated nodes: {data.has_isolated_nodes()}')\n",
    "print(f'Contains self-loops: {data.has_self_loops()}')\n",
    "print(f'Is directed: {data.is_directed()}')"
   ]
  },
  {
   "cell_type": "code",
   "execution_count": null,
   "metadata": {},
   "outputs": [],
   "source": [
    "graph_list = []\n",
    "\n",
    "graph = dict()\n",
    "graph['num_nodes'] = int(data.num_nodes)\n",
    "graph['node_feat'] = np.array(data.x)\n",
    "graph['edge_index'] = data.edge_index.numpy() # only train pos edge index, but both directions / undirected!\n",
    "graph['edge_feat'] = data.edge_attr.numpy()\n",
    "graph_list.append(graph)\n",
    "\n",
    "print(graph_list)\n",
    "# saving a list of graphs\n",
    "saver.save_graph_list(graph_list)"
   ]
  },
  {
   "cell_type": "code",
   "execution_count": null,
   "metadata": {},
   "outputs": [],
   "source": [
    "import math\n",
    "def custom_train_test_split_edges(data, val_ratio: float = 0.05, test_ratio: float = 0.1):\n",
    "    r\"\"\"Splits the edges of a :class:`torch_geometric.data.Data` object\n",
    "    into positive and negative train/val/test edges.\n",
    "    As such, it will replace the :obj:`edge_index` attribute with\n",
    "    :obj:`train_pos_edge_index`, :obj:`train_pos_neg_adj_mask`,\n",
    "    :obj:`val_pos_edge_index`, :obj:`val_neg_edge_index` and\n",
    "    :obj:`test_pos_edge_index` attributes.\n",
    "    If :obj:`data` has edge features named :obj:`edge_attr`, then\n",
    "    :obj:`train_pos_edge_attr`, :obj:`val_pos_edge_attr` and\n",
    "    :obj:`test_pos_edge_attr` will be added as well.\n",
    "\n",
    "    Args:\n",
    "        data (Data): The data object.\n",
    "        val_ratio (float, optional): The ratio of positive validation edges.\n",
    "            (default: :obj:`0.05`)\n",
    "        test_ratio (float, optional): The ratio of positive test edges.\n",
    "            (default: :obj:`0.1`)\n",
    "\n",
    "    :rtype: :class:`torch_geometric.data.Data`\n",
    "    \"\"\"\n",
    "\n",
    "    assert 'batch' not in data  # No batch-mode.\n",
    "\n",
    "    num_nodes = data.num_nodes\n",
    "    original_edge_index = data.edge_index\n",
    "    row, col = data.edge_index\n",
    "    edge_attr = data.edge_attr\n",
    "    data.edge_index = data.edge_attr = None\n",
    "\n",
    "    # Return upper triangular portion.\n",
    "    mask = row < col\n",
    "    row, col = row[mask], col[mask]\n",
    "\n",
    "    if edge_attr is not None:\n",
    "        edge_attr = edge_attr[mask]\n",
    "\n",
    "    n_v = int(math.floor(val_ratio * row.size(0)))\n",
    "    n_t = int(math.floor(test_ratio * row.size(0)))\n",
    "\n",
    "    # Positive edges.\n",
    "    perm = torch.randperm(row.size(0))\n",
    "    row, col = row[perm], col[perm]\n",
    "    if edge_attr is not None:\n",
    "        edge_attr = edge_attr[perm]\n",
    "\n",
    "    r, c = row[:n_v], col[:n_v]\n",
    "    data.val_pos_edge_index = torch.stack([r, c], dim=0)\n",
    "    if edge_attr is not None:\n",
    "        data.val_pos_edge_attr = edge_attr[:n_v]\n",
    "\n",
    "    r, c = row[n_v:n_v + n_t], col[n_v:n_v + n_t]\n",
    "    data.test_pos_edge_index = torch.stack([r, c], dim=0)\n",
    "    if edge_attr is not None:\n",
    "        data.test_pos_edge_attr = edge_attr[n_v:n_v + n_t]\n",
    "\n",
    "    r, c = row[n_v + n_t:], col[n_v + n_t:]\n",
    "\n",
    "    # this section is custom\n",
    "    # -----------------------\n",
    "    data.train_pos_edge_index = torch.stack([r, c], dim=0)\n",
    "\n",
    "    helper = data.train_pos_edge_index\n",
    "\n",
    "    # if edge_attr is not None:\n",
    "    #     out = to_undirected(data.train_pos_edge_index, edge_attr[n_v + n_t:])\n",
    "    #     data.edge_index, data.edge_attr = out\n",
    "    # else:\n",
    "    #     data.edge_index = to_undirected(data.train_pos_edge_index)\n",
    "\n",
    "    data.train_pos_edge_index = helper\n",
    "\n",
    "    if edge_attr is not None:\n",
    "        data.train_pos_edge_attr = edge_attr[n_v + n_t:]\n",
    "    # -----------------------\n",
    "\n",
    "    data.edge_index = original_edge_index\n",
    "\n",
    "    \n",
    "    # generate negative edge list by randomly sampling the nodes!\n",
    "    neg_edge_list = np.array(np.random.randint(low=0, high=num_nodes,\n",
    "                                               size=(2*data.edge_index.shape[1],)). # left and right edge - 2x, to be safe:3.4\n",
    "                             reshape((data.edge_index.shape[1],2)))\n",
    "\n",
    "    a = np.min(neg_edge_list, axis=1)\n",
    "    b = np.max(neg_edge_list, axis=1)\n",
    "\n",
    "    neg_edge_list = np.vstack((a,b)).transpose()\n",
    "\n",
    "    # filter for unique edges in the negative edge list\n",
    "\n",
    "    # obtain the indexes of the first occuring objects\n",
    "    # _, indices = np.unique(edges[:,[0,1]],return_index=True,axis=0)\n",
    "    _, indices = np.unique(neg_edge_list[:,[0,1]],return_index=True,axis=0)\n",
    "\n",
    "    neg_edge_list = neg_edge_list[indices]\n",
    "\n",
    "    all_edges = np.concatenate((np.array(data.edge_index.t()),neg_edge_list), axis=0) # concat positive edges of graph and negative edges\n",
    "\n",
    "    # obtain the indexes of unique objects\n",
    "    _, indices = np.unique(all_edges[:, [0, 1]], return_index=True, axis=0)\n",
    "\n",
    "    # sort indices\n",
    "\n",
    "    indices = np.sort(indices)\n",
    "    indices = indices[indices > data.edge_index.shape[1]] # remove the indices of the positive edges!\n",
    "    neg_edge_list = torch.tensor(all_edges[indices])\n",
    "\n",
    "    # sample edges according to percentage\n",
    "\n",
    "    ind = torch.randperm(neg_edge_list.shape[0])\n",
    "\n",
    "    data.val_neg_edge_index = neg_edge_list[ind[:n_v]].t()\n",
    "    data.test_neg_edge_index = neg_edge_list[ind[n_v:n_v+n_t]].t()\n",
    "    data.train_neg_edge_index = neg_edge_list[ind[n_v+n_t:n_v+n_t+data.train_pos_edge_index.shape[1]]].t()\n",
    "\n",
    "    \"\"\"\n",
    "    #Original Sampling: allocates to much memory\n",
    "\n",
    "    # Negative edges.\n",
    "    neg_adj_mask = torch.ones(num_nodes, num_nodes, dtype=torch.uint8)\n",
    "    neg_adj_mask = neg_adj_mask.triu(diagonal=1).to(torch.bool)\n",
    "    neg_adj_mask[row, col] = 0\n",
    "\n",
    "    neg_row, neg_col = neg_adj_mask.nonzero(as_tuple=False).t()\n",
    "    ind = torch.randperm(neg_row.size(0))\n",
    "    perm = ind[:n_v + n_t]\n",
    "    perm_train = ind[n_v+n_t:n_v+n_t+data.train_pos_edge_index.shape[1]]\n",
    "    neg_row_train, neg_col_train = neg_row[perm_train], neg_col[perm_train]\n",
    "    neg_row, neg_col = neg_row[perm], neg_col[perm]\n",
    "\n",
    "    neg_adj_mask[neg_row, neg_col] = 0\n",
    "    data.train_neg_adj_mask = neg_adj_mask\n",
    "\n",
    "    row, col = neg_row[:n_v], neg_col[:n_v]\n",
    "    data.val_neg_edge_index = torch.stack([row, col], dim=0)\n",
    "\n",
    "    row, col = neg_row[n_v:n_v + n_t], neg_col[n_v:n_v + n_t]\n",
    "    data.test_neg_edge_index = torch.stack([row, col], dim=0)\n",
    "\n",
    "    row, col = neg_row_train , neg_col_train\n",
    "    data.train_neg_edge_index = torch.stack([row, col], dim=0)\n",
    "    \"\"\"\n",
    "\n",
    "    return data"
   ]
  },
  {
   "cell_type": "code",
   "execution_count": null,
   "metadata": {},
   "outputs": [],
   "source": [
    "val_ratio = 0.2\n",
    "test_ratio = 0.4"
   ]
  },
  {
   "cell_type": "code",
   "execution_count": null,
   "metadata": {},
   "outputs": [],
   "source": [
    "data = custom_train_test_split_edges(data, val_ratio=val_ratio, test_ratio = test_ratio)"
   ]
  },
  {
   "cell_type": "code",
   "execution_count": null,
   "metadata": {},
   "outputs": [],
   "source": [
    "data"
   ]
  },
  {
   "cell_type": "code",
   "execution_count": null,
   "metadata": {},
   "outputs": [],
   "source": [
    "del data.train_mask,data.val_mask,data.test_mask"
   ]
  },
  {
   "cell_type": "code",
   "execution_count": null,
   "metadata": {},
   "outputs": [],
   "source": [
    "split_edge = {'train': {}, 'valid': {}, 'test': {}}"
   ]
  },
  {
   "cell_type": "code",
   "execution_count": null,
   "metadata": {},
   "outputs": [],
   "source": [
    "split_edge['train']['edge'] = data.train_pos_edge_index.t() # these are only one directional\n",
    "split_edge['train']['edge_neg'] = data.train_neg_edge_index.t() # these are only one directional\n",
    "split_edge['valid']['edge'] = data.val_pos_edge_index.t() # these are only one directional\n",
    "split_edge['valid']['edge_neg'] = data.val_neg_edge_index.t()  # these are only one directional\n",
    "split_edge['test']['edge'] = data.test_pos_edge_index.t()  # these are only one directional\n",
    "split_edge['test']['edge_neg'] = data.test_neg_edge_index.t()  # these are only one directional"
   ]
  },
  {
   "cell_type": "code",
   "execution_count": null,
   "metadata": {},
   "outputs": [],
   "source": [
    "split_edge['train']['edge_attr'] = data.train_pos_edge_attr.t() # these are only one directional\n",
    "split_edge['test']['edge_attr'] = data.test_pos_edge_attr.t() # these are only one directional\n",
    "split_edge['valid']['edge_attr'] = data.val_pos_edge_attr.t() # these are only one directional"
   ]
  },
  {
   "cell_type": "code",
   "execution_count": null,
   "metadata": {},
   "outputs": [],
   "source": [
    "saver.save_split(split_edge, split_name = 'random')"
   ]
  },
  {
   "cell_type": "code",
   "execution_count": null,
   "metadata": {},
   "outputs": [],
   "source": [
    "split_edge"
   ]
  },
  {
   "cell_type": "code",
   "execution_count": null,
   "metadata": {},
   "outputs": [],
   "source": [
    "mapping_path = prefix+'/mapping/'\n",
    "\n",
    "# prepare mapping information first and store it under this directory (empty below).\n",
    "os.makedirs(mapping_path,exist_ok=True)\n",
    "try:\n",
    "    os.mknod(os.path.join(mapping_path, 'README.md'))\n",
    "except:\n",
    "    print(\"Readme.md already exists.\")\n",
    "saver.copy_mapping_dir(mapping_path)"
   ]
  },
  {
   "cell_type": "code",
   "execution_count": null,
   "metadata": {},
   "outputs": [],
   "source": [
    "saver.save_task_info(task_type = 'link prediction', eval_metric = 'mrr')"
   ]
  },
  {
   "cell_type": "code",
   "execution_count": null,
   "metadata": {},
   "outputs": [],
   "source": [
    "meta_dict = saver.get_meta_dict()\n",
    "print(meta_dict)"
   ]
  },
  {
   "cell_type": "code",
   "execution_count": null,
   "metadata": {},
   "outputs": [],
   "source": [
    "saver.zip()\n",
    "saver.cleanup()"
   ]
  },
  {
   "cell_type": "code",
   "execution_count": null,
   "metadata": {},
   "outputs": [],
   "source": [
    "filedir = prefix+'/datasets/ogb_graph/submission_ogbl_nftgraph/nftgraph.zip'\n",
    "dstdirs = prefix+'/datasets/ogb_graph/submission_ogbl_nftgraph/nftgraph'"
   ]
  },
  {
   "cell_type": "code",
   "execution_count": null,
   "metadata": {},
   "outputs": [],
   "source": [
    "!unzip $filedir -d $dstdirs"
   ]
  },
  {
   "cell_type": "code",
   "execution_count": null,
   "metadata": {},
   "outputs": [],
   "source": [
    "dataset = LinkPropPredDataset(dataset_name,root=prefix+'/datasets/', meta_dict = meta_dict)"
   ]
  },
  {
   "cell_type": "code",
   "execution_count": null,
   "metadata": {},
   "outputs": [],
   "source": [
    "dataset.get_edge_split()"
   ]
  },
  {
   "cell_type": "code",
   "execution_count": null,
   "metadata": {},
   "outputs": [],
   "source": [
    "dfedges"
   ]
  },
  {
   "cell_type": "code",
   "execution_count": null,
   "metadata": {},
   "outputs": [],
   "source": [
    "tgb_edges = dfedges[['timestamp','from','to','TxnsCnt']]"
   ]
  },
  {
   "cell_type": "code",
   "execution_count": null,
   "metadata": {},
   "outputs": [],
   "source": [
    "tgb_edges"
   ]
  },
  {
   "cell_type": "code",
   "execution_count": null,
   "metadata": {},
   "outputs": [],
   "source": [
    "tgb_edges.to_csv(prefix+'/datasets/tgb_graph/tgbl_nftgraph/tgbl-nftgraph_edgelist.csv',index=False)"
   ]
  }
 ],
 "metadata": {
  "kernelspec": {
   "display_name": "Python 3",
   "language": "python",
   "name": "python3"
  },
  "language_info": {
   "codemirror_mode": {
    "name": "ipython",
    "version": 3
   },
   "file_extension": ".py",
   "mimetype": "text/x-python",
   "name": "python",
   "nbconvert_exporter": "python",
   "pygments_lexer": "ipython3",
   "version": "3.8.0"
  }
 },
 "nbformat": 4,
 "nbformat_minor": 0
}
